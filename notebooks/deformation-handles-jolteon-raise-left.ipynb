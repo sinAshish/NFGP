{
 "cells": [
  {
   "cell_type": "code",
   "execution_count": 1,
   "metadata": {},
   "outputs": [],
   "source": [
    "%load_ext autoreload\n",
    "%autoreload 2\n",
    "\n",
    "import os\n",
    "import sys\n",
    "import numpy as np\n",
    "sys.path.insert(0, \"..\")"
   ]
  },
  {
   "cell_type": "code",
   "execution_count": 2,
   "metadata": {},
   "outputs": [],
   "source": [
    "import trimesh\n",
    "import matplotlib\n",
    "import numpy as np\n",
    "import meshplot as mp\n",
    "import matplotlib.pyplot as plt"
   ]
  },
  {
   "cell_type": "markdown",
   "metadata": {},
   "source": [
    "# Visualize the Implicit Field"
   ]
  },
  {
   "cell_type": "code",
   "execution_count": 3,
   "metadata": {},
   "outputs": [
    {
     "name": "stdout",
     "output_type": "stream",
     "text": [
      "armadillo  bunny   cylinder  half_noisy_sphere\tnoisy_torus\r\n",
      "bar\t   cactus  dino      jolteon\r\n"
     ]
    }
   ],
   "source": [
    "!ls ../pretrained/neural_fields/"
   ]
  },
  {
   "cell_type": "code",
   "execution_count": 4,
   "metadata": {},
   "outputs": [],
   "source": [
    "log_path = \"../pretrained/neural_fields/jolteon\""
   ]
  },
  {
   "cell_type": "code",
   "execution_count": 5,
   "metadata": {},
   "outputs": [
    {
     "name": "stdout",
     "output_type": "stream",
     "text": [
      "../pretrained/neural_fields/jolteon/latest.pt\n",
      "Net:\n",
      "Net(\n",
      "  (blocks): ModuleList(\n",
      "    (0): Linear(in_features=3, out_features=512, bias=True)\n",
      "    (1): Linear(in_features=512, out_features=512, bias=True)\n",
      "    (2): Linear(in_features=512, out_features=512, bias=True)\n",
      "    (3): Linear(in_features=512, out_features=512, bias=True)\n",
      "    (4): Linear(in_features=512, out_features=512, bias=True)\n",
      "    (5): Linear(in_features=512, out_features=512, bias=True)\n",
      "    (6): Linear(in_features=512, out_features=1, bias=True)\n",
      "  )\n",
      "  (act): Sine()\n",
      ")\n"
     ]
    },
    {
     "data": {
      "text/plain": [
       "Net(\n",
       "  (blocks): ModuleList(\n",
       "    (0): Linear(in_features=3, out_features=512, bias=True)\n",
       "    (1): Linear(in_features=512, out_features=512, bias=True)\n",
       "    (2): Linear(in_features=512, out_features=512, bias=True)\n",
       "    (3): Linear(in_features=512, out_features=512, bias=True)\n",
       "    (4): Linear(in_features=512, out_features=512, bias=True)\n",
       "    (5): Linear(in_features=512, out_features=512, bias=True)\n",
       "    (6): Linear(in_features=512, out_features=1, bias=True)\n",
       "  )\n",
       "  (act): Sine()\n",
       ")"
      ]
     },
     "execution_count": 5,
     "metadata": {},
     "output_type": "execute_result"
    }
   ],
   "source": [
    "import yaml\n",
    "import argparse\n",
    "import os.path as osp\n",
    "from train import dict2namespace\n",
    "from pprint import pprint\n",
    "from utils import load_imf\n",
    "\n",
    "original, cfg = load_imf(\n",
    "    log_path, \n",
    "    config_fpath=osp.join(log_path, \"config.yaml\"), \n",
    "    return_cfg=True)\n",
    "original"
   ]
  },
  {
   "cell_type": "code",
   "execution_count": 6,
   "metadata": {},
   "outputs": [
    {
     "name": "stderr",
     "output_type": "stream",
     "text": [
      "100%|██████████| 1678/1678 [00:06<00:00, 258.50it/s]\n"
     ]
    },
    {
     "name": "stdout",
     "output_type": "stream",
     "text": [
      "221.62137 40.37848\n"
     ]
    },
    {
     "data": {
      "text/plain": [
       "<trimesh.Trimesh(vertices.shape=(88989, 3), faces.shape=(177966, 3))>"
      ]
     },
     "execution_count": 6,
     "metadata": {},
     "output_type": "execute_result"
    }
   ],
   "source": [
    "import numpy as np\n",
    "import torch\n",
    "from tqdm import tqdm\n",
    "import skimage\n",
    "import skimage.measure\n",
    "from trainers.utils.vis_utils import imf2mesh\n",
    "    \n",
    "original.eval()\n",
    "res = 256\n",
    "new_mesh = imf2mesh(original, res=res, threshold=0.00, normalize=True, norm_type='res')\n",
    "new_mesh"
   ]
  },
  {
   "cell_type": "code",
   "execution_count": 7,
   "metadata": {},
   "outputs": [
    {
     "name": "stdout",
     "output_type": "stream",
     "text": [
      "0.7382068634033203 -0.6833060383796692\n"
     ]
    },
    {
     "name": "stderr",
     "output_type": "stream",
     "text": [
      "/home/grendelyang/anaconda3/envs/IGP/lib/python3.6/site-packages/traittypes/traittypes.py:101: UserWarning: Given trait value dtype \"float32\" does not match required type \"float64\". A coerced copy has been created.\n",
      "  np.dtype(self.dtype).name))\n",
      "/home/grendelyang/anaconda3/envs/IGP/lib/python3.6/site-packages/traittypes/traittypes.py:101: UserWarning: Given trait value dtype \"uint32\" does not match required type \"float64\". A coerced copy has been created.\n",
      "  np.dtype(self.dtype).name))\n"
     ]
    },
    {
     "data": {
      "application/vnd.jupyter.widget-view+json": {
       "model_id": "36e446be142d46a7b368d648266f357e",
       "version_major": 2,
       "version_minor": 0
      },
      "text/plain": [
       "Renderer(camera=PerspectiveCamera(children=(DirectionalLight(color='white', intensity=0.6, position=(0.0003809…"
      ]
     },
     "metadata": {},
     "output_type": "display_data"
    },
    {
     "data": {
      "text/plain": [
       "<meshplot.Viewer.Viewer at 0x7f06b09b5320>"
      ]
     },
     "execution_count": 7,
     "metadata": {},
     "output_type": "execute_result"
    }
   ],
   "source": [
    "# verts = (new_mesh.vertices * 2 - res) / float(res)\n",
    "# new_mesh = trimesh.Trimesh(vertices=verts, faces=new_mesh.faces)\n",
    "print(new_mesh.vertices.max(), new_mesh.vertices.min())\n",
    "mp.plot(new_mesh.vertices, new_mesh.faces)"
   ]
  },
  {
   "cell_type": "markdown",
   "metadata": {},
   "source": [
    "# Creating Handles\n",
    "\n",
    "1. Creating a set of deforming handles (i.e. sparse points on the surface that will change according to the shape)\n",
    "2. Creating a set of statisc handles (i.e. sparse points on the surface that will remain unchanged)"
   ]
  },
  {
   "cell_type": "code",
   "execution_count": 8,
   "metadata": {},
   "outputs": [
    {
     "name": "stdout",
     "output_type": "stream",
     "text": [
      "[0.42248666 0.60404599 0.73820686]\n",
      "[-0.42172468 -0.68330604 -0.51403069]\n"
     ]
    }
   ],
   "source": [
    "verts, faces = new_mesh.vertices, new_mesh.faces\n",
    "print(verts.max(axis=0))\n",
    "print(verts.min(axis=0))"
   ]
  },
  {
   "cell_type": "code",
   "execution_count": 9,
   "metadata": {},
   "outputs": [
    {
     "data": {
      "application/vnd.jupyter.widget-view+json": {
       "model_id": "cf0689bb6af34c798257cdc0c7d75009",
       "version_major": 2,
       "version_minor": 0
      },
      "text/plain": [
       "Renderer(camera=PerspectiveCamera(children=(DirectionalLight(color='white', intensity=0.6, position=(0.0003809…"
      ]
     },
     "metadata": {},
     "output_type": "display_data"
    },
    {
     "data": {
      "text/plain": [
       "4"
      ]
     },
     "execution_count": 9,
     "metadata": {},
     "output_type": "execute_result"
    }
   ],
   "source": [
    "left_front = verts[(verts[:, 1] < -0.67) & (verts[:, 2] < 0) &  (verts[:, 0] < 0), :]\n",
    "right_front = verts[(verts[:, 1] < -0.67) & (verts[:, 2] < 0) & (verts[:, 0] > 0), :]\n",
    "\n",
    "right_back = verts[(verts[:, 1] < -0.67) & (verts[:, 2] > 0) & (verts[:, 0] > 0), :]\n",
    "left_back = verts[(verts[:, 1] < -0.67) & (verts[:, 2] > 0) & (verts[:, 0] < 0), :]\n",
    "\n",
    "p = mp.plot(new_mesh.vertices, new_mesh.faces)\n",
    "p.add_points(right_back, shading={\"point_color\": \"blue\", \"point_size\": 0.1})\n",
    "p.add_points(left_back, shading={\"point_color\": \"green\", \"point_size\": 0.1})\n",
    "p.add_points(right_front, shading={\"point_color\": \"red\", \"point_size\": 0.1})\n",
    "p.add_points(left_front, shading={\"point_color\": \"black\", \"point_size\": 0.1})"
   ]
  },
  {
   "cell_type": "code",
   "execution_count": 10,
   "metadata": {},
   "outputs": [
    {
     "data": {
      "application/vnd.jupyter.widget-view+json": {
       "model_id": "e6ebda25feaa4b65b8b9474fad91282d",
       "version_major": 2,
       "version_minor": 0
      },
      "text/plain": [
       "Renderer(camera=PerspectiveCamera(children=(DirectionalLight(color='white', intensity=0.6, position=(0.0003809…"
      ]
     },
     "metadata": {},
     "output_type": "display_data"
    },
    {
     "data": {
      "text/plain": [
       "2"
      ]
     },
     "execution_count": 10,
     "metadata": {},
     "output_type": "execute_result"
    }
   ],
   "source": [
    "from scipy.spatial.transform import Rotation as ROT\n",
    "\n",
    "def rot_and_translate(pts, rot_axis=None, rot_deg=None, translate=None):\n",
    "    center = pts.mean(axis=0).reshape(1, 3)\n",
    "    if rot_axis is None or rot_deg is None:\n",
    "        rot_mat = np.eye(3)\n",
    "    else:\n",
    "        rot_mat = ROT.from_euler(rot_axis, rot_deg, degrees=True).as_matrix()\n",
    "    if translate is None:\n",
    "        translate = np.array([0, 0, 0])\n",
    "    else:\n",
    "        translate = np.array(translate).reshape(1, 3)\n",
    "    transf = np.matmul(pts - center, rot_mat) + center + translate\n",
    "    return transf\n",
    "\n",
    "pts = left_front\n",
    "# pts = nose\n",
    "\n",
    "pts_out = rot_and_translate(pts, rot_axis='x', rot_deg=-30, translate=np.array([0, 0.3, -0.2]))\n",
    "p = mp.plot(new_mesh.vertices, new_mesh.faces)\n",
    "p.add_points(pts, shading={'point_color': 'green', 'point_size': 0.1})\n",
    "p.add_points(pts_out, shading={\"point_color\": \"blue\", \"point_size\": 0.1})"
   ]
  },
  {
   "cell_type": "code",
   "execution_count": 12,
   "metadata": {},
   "outputs": [
    {
     "data": {
      "application/vnd.jupyter.widget-view+json": {
       "model_id": "a99219233bc14a5ebddc31578e28e5ba",
       "version_major": 2,
       "version_minor": 0
      },
      "text/plain": [
       "Renderer(camera=PerspectiveCamera(children=(DirectionalLight(color='white', intensity=0.6, position=(0.0003809…"
      ]
     },
     "metadata": {},
     "output_type": "display_data"
    },
    {
     "data": {
      "text/plain": [
       "2"
      ]
     },
     "execution_count": 12,
     "metadata": {},
     "output_type": "execute_result"
    }
   ],
   "source": [
    "handles, targets = [], []\n",
    "for h, r_axis, r_angle, translate in [\n",
    "    (left_front, 'x', -30, [0., 0.3, -0.2]),\n",
    "#     (right_front, 'x', -30, [0., 0.3, -0.2]),\n",
    "    (right_front, None, None, None),    \n",
    "    (left_back, None, None, [0., 0., 0.]),\n",
    "    (right_back, None, None, [0., 0., 0.]),\n",
    "]:\n",
    "    handles.append(h.reshape(-1, 3))\n",
    "    targets.append(rot_and_translate(h, rot_axis=r_axis, rot_deg=r_angle, translate=translate))\n",
    "    \n",
    "handles = np.concatenate(handles, axis=0)\n",
    "targets = np.concatenate(targets, axis=0)\n",
    "\n",
    "p = mp.plot(new_mesh.vertices, new_mesh.faces)\n",
    "p.add_points(handles, shading={\"point_color\": \"blue\", \"point_size\": 0.1})\n",
    "p.add_points(targets, shading={\"point_color\": \"red\", \"point_size\": 0.1})"
   ]
  },
  {
   "cell_type": "markdown",
   "metadata": {},
   "source": [
    "# Compare to Open3D ASAP Algorithm"
   ]
  },
  {
   "cell_type": "code",
   "execution_count": 13,
   "metadata": {
    "scrolled": true
   },
   "outputs": [
    {
     "name": "stdout",
     "output_type": "stream",
     "text": [
      "Smoothing alphas: 100 Use Smoothed Energy\n",
      "[Open3D DEBUG] [DeformAsRigidAsPossible] setting up S'\n",
      "[Open3D DEBUG] [DeformAsRigidAsPossible] done setting up S'\n",
      "[Open3D DEBUG] [DeformAsRigidAsPossible] setting up system matrix L\n",
      "[Open3D DEBUG] [DeformAsRigidAsPossible] done setting up system matrix L\n",
      "[Open3D DEBUG] [DeformAsRigidAsPossible] setting up sparse solver\n"
     ]
    },
    {
     "ename": "RuntimeError",
     "evalue": "\u001b[1;31m[Open3D ERROR] [DeformAsRigidAsPossible] Failed to build solver (factorize)\u001b[0;m",
     "output_type": "error",
     "traceback": [
      "\u001b[0;31m---------------------------------------------------------------------------\u001b[0m",
      "\u001b[0;31mRuntimeError\u001b[0m                              Traceback (most recent call last)",
      "\u001b[0;32m<ipython-input-13-801bac585004>\u001b[0m in \u001b[0;36m<module>\u001b[0;34m\u001b[0m\n\u001b[1;32m      2\u001b[0m \u001b[0mmesh_prime_tri\u001b[0m \u001b[0;34m=\u001b[0m \u001b[0;32mNone\u001b[0m\u001b[0;34m\u001b[0m\u001b[0;34m\u001b[0m\u001b[0m\n\u001b[1;32m      3\u001b[0m mesh_prime_tri = deform_mesh_o3d(original, handles, targets, imf_mesh = new_mesh, \n\u001b[0;32m----> 4\u001b[0;31m                                  steps=100, smoothed_alpha=100)\n\u001b[0m",
      "\u001b[0;32m~/NFGP/trainers/utils/o3d_deformation.py\u001b[0m in \u001b[0;36mdeform_mesh_o3d\u001b[0;34m(imf, handles, targets, normalize, res, imf_mesh, steps, smoothed_alpha, verbose)\u001b[0m\n\u001b[1;32m     71\u001b[0m                 \u001b[0mconstraint_ids\u001b[0m\u001b[0;34m,\u001b[0m \u001b[0mconstraint_pos\u001b[0m\u001b[0;34m,\u001b[0m \u001b[0mmax_iter\u001b[0m\u001b[0;34m=\u001b[0m\u001b[0msteps\u001b[0m\u001b[0;34m,\u001b[0m\u001b[0;34m\u001b[0m\u001b[0;34m\u001b[0m\u001b[0m\n\u001b[1;32m     72\u001b[0m                 \u001b[0msmoothed_alpha\u001b[0m\u001b[0;34m=\u001b[0m\u001b[0msmoothed_alpha\u001b[0m\u001b[0;34m,\u001b[0m\u001b[0;34m\u001b[0m\u001b[0;34m\u001b[0m\u001b[0m\n\u001b[0;32m---> 73\u001b[0;31m                 energy=o3d.geometry.DeformAsRigidAsPossibleEnergy.Smoothed)\n\u001b[0m\u001b[1;32m     74\u001b[0m         \u001b[0;32melse\u001b[0m\u001b[0;34m:\u001b[0m\u001b[0;34m\u001b[0m\u001b[0;34m\u001b[0m\u001b[0m\n\u001b[1;32m     75\u001b[0m             \u001b[0mprint\u001b[0m\u001b[0;34m(\u001b[0m\u001b[0;34m\"Smoothing alphas:\"\u001b[0m\u001b[0;34m,\u001b[0m \u001b[0msmoothed_alpha\u001b[0m\u001b[0;34m,\u001b[0m \u001b[0;34m\"Use Spokes Energy\"\u001b[0m\u001b[0;34m)\u001b[0m\u001b[0;34m\u001b[0m\u001b[0;34m\u001b[0m\u001b[0m\n",
      "\u001b[0;31mRuntimeError\u001b[0m: \u001b[1;31m[Open3D ERROR] [DeformAsRigidAsPossible] Failed to build solver (factorize)\u001b[0;m"
     ]
    }
   ],
   "source": [
    "from trainers.utils.o3d_deformation import deform_mesh_o3d, trimesh_to_o3dmesh, o3dmesh_to_trimesh\n",
    "mesh_prime_tri = None\n",
    "mesh_prime_tri = deform_mesh_o3d(original, handles, targets, imf_mesh = new_mesh, \n",
    "                                 steps=100, smoothed_alpha=100)"
   ]
  },
  {
   "cell_type": "code",
   "execution_count": null,
   "metadata": {},
   "outputs": [],
   "source": [
    "p = mp.plot(mesh_prime_tri.vertices, mesh_prime_tri.faces)\n",
    "p.add_points(handles, shading={\"point_color\": \"blue\", \"point_size\": 0.05})\n",
    "p.add_points(targets, shading={\"point_color\": \"red\", \"point_size\": 0.05})"
   ]
  },
  {
   "cell_type": "code",
   "execution_count": null,
   "metadata": {
    "scrolled": true
   },
   "outputs": [],
   "source": [
    "# from trainers.utils.o3d_deformation import deform_mesh_o3d, trimesh_to_o3dmesh, o3dmesh_to_trimesh\n",
    "# mesh_prime_tri = deform_mesh_o3d(original, handles, targets, imf_mesh = new_mesh, \n",
    "#                                  steps=10000, smoothed_alpha=10)\n"
   ]
  },
  {
   "cell_type": "code",
   "execution_count": null,
   "metadata": {},
   "outputs": [],
   "source": [
    "# p = mp.plot(mesh_prime_tri.vertices, mesh_prime_tri.faces)\n",
    "# p.add_points(handles, shading={\"point_color\": \"blue\", \"point_size\": 0.05})\n",
    "# p.add_points(targets, shading={\"point_color\": \"red\", \"point_size\": 0.05})"
   ]
  },
  {
   "cell_type": "markdown",
   "metadata": {},
   "source": [
    "# Save the Data for Neural Fields Deformation"
   ]
  },
  {
   "cell_type": "code",
   "execution_count": 14,
   "metadata": {},
   "outputs": [
    {
     "name": "stdout",
     "output_type": "stream",
     "text": [
      "Saving the handles and targets.\n"
     ]
    },
    {
     "data": {
      "text/plain": [
       "'../data/jolteon/deform_raiseleft.npy'"
      ]
     },
     "execution_count": 14,
     "metadata": {},
     "output_type": "execute_result"
    }
   ],
   "source": [
    "# # # Saving it to data\n",
    "out_dir = \"../data/jolteon/deform_raiseleft.npy\"\n",
    "try:\n",
    "    assert mesh_prime_tri\n",
    "    np.save(out_dir, {\n",
    "        \"handles\": handles,\n",
    "        \"targets\": targets,\n",
    "        'gtr_verts': mesh_prime_tri.vertices,\n",
    "        'gtr_faces': mesh_prime_tri.faces\n",
    "    })\n",
    "except:\n",
    "    print(\"Saving the handles and targets.\")\n",
    "    np.save(out_dir, {\n",
    "        \"handles\": handles,\n",
    "        \"targets\": targets,\n",
    "    })\n",
    "\n",
    "out_dir"
   ]
  },
  {
   "cell_type": "code",
   "execution_count": null,
   "metadata": {},
   "outputs": [],
   "source": []
  },
  {
   "cell_type": "code",
   "execution_count": null,
   "metadata": {},
   "outputs": [],
   "source": []
  }
 ],
 "metadata": {
  "kernelspec": {
   "display_name": "IGP",
   "language": "python",
   "name": "igp"
  },
  "language_info": {
   "codemirror_mode": {
    "name": "ipython",
    "version": 3
   },
   "file_extension": ".py",
   "mimetype": "text/x-python",
   "name": "python",
   "nbconvert_exporter": "python",
   "pygments_lexer": "ipython3",
   "version": "3.6.13"
  }
 },
 "nbformat": 4,
 "nbformat_minor": 4
}
