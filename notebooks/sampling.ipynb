{
 "cells": [
  {
   "cell_type": "code",
   "execution_count": null,
   "metadata": {},
   "outputs": [],
   "source": [
    "%load_ext autoreload\n",
    "%autoreload 2\n",
    "\n",
    "import os\n",
    "import sys\n",
    "import numpy as np\n",
    "os.chdir(\"..\")\n",
    "print(os.getcwd())\n",
    "sys.path.insert(0, os.getcwd())"
   ]
  },
  {
   "cell_type": "code",
   "execution_count": null,
   "metadata": {},
   "outputs": [],
   "source": []
  },
  {
   "cell_type": "code",
   "execution_count": null,
   "metadata": {},
   "outputs": [],
   "source": [
    "import trimesh\n",
    "import matplotlib\n",
    "import numpy as np\n",
    "import meshplot as mp\n",
    "import matplotlib.pyplot as plt"
   ]
  },
  {
   "cell_type": "markdown",
   "metadata": {},
   "source": [
    "# Visualize the Implicit Field"
   ]
  },
  {
   "cell_type": "code",
   "execution_count": null,
   "metadata": {
    "scrolled": true
   },
   "outputs": [],
   "source": [
    "# !ls -d pretrained/neural_fields/*/\n",
    "!ls pretrained/neural_fields/jolteon/*"
   ]
  },
  {
   "cell_type": "code",
   "execution_count": null,
   "metadata": {},
   "outputs": [],
   "source": [
    "log_path = \"pretrained/neural_fields/jolteon/\""
   ]
  },
  {
   "cell_type": "code",
   "execution_count": null,
   "metadata": {
    "scrolled": true
   },
   "outputs": [],
   "source": [
    "import os.path as osp\n",
    "from utils import load_imf\n",
    "\n",
    "net, cfg = load_imf(\n",
    "    log_path, \n",
    "    config_fpath=osp.join(log_path, \"config.yaml\"),\n",
    "    ckpt_fpath=osp.join(log_path, \"latest.pt\"),\n",
    "    return_cfg=True)\n",
    "net, cfg"
   ]
  },
  {
   "cell_type": "markdown",
   "metadata": {},
   "source": [
    "# Get the output Mesh"
   ]
  },
  {
   "cell_type": "code",
   "execution_count": null,
   "metadata": {},
   "outputs": [],
   "source": [
    "from trainers.utils.vis_utils import imf2mesh\n",
    "res = 256\n",
    "out_mesh = imf2mesh(net, res=res, normalize=True, bound=1.2)"
   ]
  },
  {
   "cell_type": "code",
   "execution_count": null,
   "metadata": {},
   "outputs": [],
   "source": [
    "npts = 1024*8\n",
    "mesh_uniform = out_mesh.sample(npts)\n",
    "mesh_uniform2 = out_mesh.sample(npts)"
   ]
  },
  {
   "cell_type": "code",
   "execution_count": null,
   "metadata": {},
   "outputs": [],
   "source": [
    "p = mp.plot(out_mesh.vertices.astype(np.float32), out_mesh.faces.astype(np.float32)) \n",
    "p.add_points(mesh_uniform, shading={'point_size': 0.05})"
   ]
  },
  {
   "cell_type": "markdown",
   "metadata": {},
   "source": [
    "# Sample using our Schema"
   ]
  },
  {
   "cell_type": "code",
   "execution_count": null,
   "metadata": {},
   "outputs": [],
   "source": [
    "from trainers.utils.igp_utils import sample_points\n",
    "\n",
    "nf_rejection, _ = sample_points(\n",
    "    npts, dim=3, sample_surf_points=True, \n",
    "    out_nf=net, inp_nf=None, deform=None, \n",
    "    invert_sampling=False, detach_weight=True, use_rejection=True)\n",
    "nf_rejection = nf_rejection.detach().cpu().numpy().reshape(-1, 3)\n",
    "nf_rejection.shape"
   ]
  },
  {
   "cell_type": "code",
   "execution_count": null,
   "metadata": {},
   "outputs": [],
   "source": [
    "p = mp.plot(out_mesh.vertices.astype(np.float32), out_mesh.faces.astype(np.float32)) \n",
    "p.add_points(nf_rejection, shading={'point_size': 0.05, 'point_color': 'blue'})"
   ]
  },
  {
   "cell_type": "markdown",
   "metadata": {},
   "source": [
    "# Metrics"
   ]
  },
  {
   "cell_type": "code",
   "execution_count": null,
   "metadata": {},
   "outputs": [],
   "source": [
    "import torch\n",
    "from evaluation.evaluation_metrics import CD, EMD\n",
    "x = torch.from_numpy(mesh_uniform).cuda().float().unsqueeze(0)\n",
    "y = torch.from_numpy(mesh_uniform2).cuda().float().unsqueeze(0)\n",
    "cd_base, dist_base = CD(x, y, return_dist=True, dist=None)\n",
    "emd_base, _ = EMD(x, y, dist=dist_base)\n",
    "cd_base.item(), emd_base.item()"
   ]
  },
  {
   "cell_type": "code",
   "execution_count": null,
   "metadata": {},
   "outputs": [],
   "source": [
    "x = torch.from_numpy(mesh_uniform).cuda().float().unsqueeze(0)\n",
    "y = torch.from_numpy(nf_rejection).cuda().float().unsqueeze(0)\n",
    "cd_rej, dist_rej = CD(x, y, return_dist=True, dist=None)\n",
    "emd_rej, _ = EMD(x, y, dist=dist_rej)\n",
    "cd_rej.item(), emd_rej.item()"
   ]
  },
  {
   "cell_type": "code",
   "execution_count": null,
   "metadata": {},
   "outputs": [],
   "source": [
    "\"CDr\", (cd_rej / cd_base * 100).item(), \"EMDr\", (emd_rej / emd_base * 100).item()"
   ]
  },
  {
   "cell_type": "code",
   "execution_count": null,
   "metadata": {},
   "outputs": [],
   "source": []
  }
 ],
 "metadata": {
  "kernelspec": {
   "display_name": "NFGP",
   "language": "python",
   "name": "nfgp"
  },
  "language_info": {
   "codemirror_mode": {
    "name": "ipython",
    "version": 3
   },
   "file_extension": ".py",
   "mimetype": "text/x-python",
   "name": "python",
   "nbconvert_exporter": "python",
   "pygments_lexer": "ipython3",
   "version": "3.6.13"
  }
 },
 "nbformat": 4,
 "nbformat_minor": 4
}
