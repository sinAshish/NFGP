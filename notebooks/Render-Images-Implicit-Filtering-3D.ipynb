{
 "cells": [
  {
   "cell_type": "code",
   "execution_count": null,
   "metadata": {},
   "outputs": [],
   "source": [
    "%load_ext autoreload\n",
    "%autoreload 2\n",
    "\n",
    "import os\n",
    "import sys\n",
    "import numpy as np\n",
    "sys.path.insert(0, \"..\")\n",
    "sys.path.insert(0, \"../../Open3D/examples/python\")\n",
    "import open3d as o3d\n",
    "import open3d_tutorial as o3dtut\n",
    "from open3d import JVisualizer\n",
    "os.chdir(\"..\")"
   ]
  },
  {
   "cell_type": "code",
   "execution_count": null,
   "metadata": {},
   "outputs": [],
   "source": [
    "import trimesh\n",
    "import matplotlib\n",
    "import numpy as np\n",
    "import meshplot as mp\n",
    "import matplotlib.pyplot as plt"
   ]
  },
  {
   "cell_type": "code",
   "execution_count": null,
   "metadata": {},
   "outputs": [],
   "source": [
    "def capture(mesh_path, width=512, height=512,left=0,top=0, xyz_rotation=(0, 0, 0)):\n",
    "    path = mesh_path[:-len(\".obj\")] + \".png\"\n",
    "    mesh = o3d.io.read_triangle_mesh(mesh_path)\n",
    "    mesh.compute_vertex_normals()\n",
    "    R = mesh.get_rotation_matrix_from_xyz(xyz_rotation)\n",
    "    mesh = mesh.rotate(R, center=mesh.get_center())\n",
    "    \n",
    "    vis =  o3d.visualization.Visualizer()\n",
    "    vis.create_window(width=width, height=height,left=left,top=top)\n",
    "    vis.add_geometry(mesh)\n",
    "    vis.poll_events()\n",
    "    vis.update_renderer()\n",
    "    vis.capture_screen_image(path)\n",
    "    vis.destroy_window()\n",
    "    return path"
   ]
  },
  {
   "cell_type": "markdown",
   "metadata": {},
   "source": [
    "# Visualize the Implicit Field"
   ]
  },
  {
   "cell_type": "code",
   "execution_count": null,
   "metadata": {
    "scrolled": true
   },
   "outputs": [],
   "source": [
    "# !ls -d logs/cylinder_rotate_90degree_*\n",
    "!ls -d good_logs/*\n",
    "# !ls -d logs/*distillation*"
   ]
  },
  {
   "cell_type": "code",
   "execution_count": null,
   "metadata": {},
   "outputs": [],
   "source": [
    "log_path = \"good_logs/filtering/HalfNoisySphere_distillation_beta0_lapweight1e-4_2021-May-17-15-25-47\"\n",
    "xyz_rotation = (0, -0.5 * np.pi, 0)\n",
    "log_path = \"good_logs/filtering/HalfNoisySphere_distillation_beta2_lapweight1e-4_2021-May-17-15-26-06\"\n",
    "xyz_rotation = (0, -0.5 * np.pi, 0)\n",
    "\n",
    "log_path = \"good_logs/filtering/NoisyTorus_distillation_beta0_lapweight1e-4_2021-May-17-14-40-19\"\n",
    "xyz_rotation = (0,  0.75 * np.pi, 0)\n",
    "log_path = \"good_logs/filtering/NoisyTorus_distillation_beta2_lapweight1e-4_2021-May-17-14-41-19\"\n",
    "xyz_rotation = (0,  0.75 * np.pi, 0)\n",
    "\n",
    "log_path = \"good_logs/filtering/Armadillo_distillation_beta0_lapweight1e-5_vol_2021-May-24-01-09-35\"\n",
    "xyz_rotation = (0, 1.15 * np.pi, 0)\n",
    "log_path = \"good_logs/filtering/Armadillo_distillation_beta2_lapweight1e-5_vol_2021-May-24-01-08-24\"\n",
    "xyz_rotation = (0, 1.15 * np.pi, 0)\n",
    "\n",
    "# log_path = \"logs/Armadillo_distillation_beta0_lapweight1e-4_vol_2021-May-23-23-48-38\"\n",
    "# good_logs/\n",
    "# log_path = \"good_logs/Armadillo_distillation_beta0_lapweight1e-4_vol_2021-May-23-23-48-38\"\n",
    "# log_path = \"good_logs/Armadillo_distillation_beta2_lapweight1e-4_vol_2021-May-23-23-48-39\"\n"
   ]
  },
  {
   "cell_type": "code",
   "execution_count": null,
   "metadata": {
    "scrolled": false
   },
   "outputs": [],
   "source": [
    "# # !ls good_logs/NoisyTorus_distillation_beta0_lapweight1e-4_2021-May-17-14-40-19/vis\n",
    "# print('Original Mesh')\n",
    "# mesh_path = os.path.join(log_path, \"vis\", \"original.obj\")\n",
    "\n",
    "# # for angle in [0, 0.25, 0.5, 0.75, 1., 1.25, 1.5, 1.75]:\n",
    "# # for angle in [0.5, 0.55, 0.6, 0.65, 0.7, 0.75]:\n",
    "# # for angle in [0.75, 0.8, 0.85, 0.9]:\n",
    "# for angle in [1., 1.05, 1.1, 1.15, 1.2, 1.25]:\n",
    "#     print(\"Angle:\", angle)\n",
    "#     img_path = capture(mesh_path, xyz_rotation=(-0. * np.pi, angle * np.pi, 0. * np.pi))\n",
    "    \n",
    "#     plt.figure(figsize=(10, 10))\n",
    "#     plt.imshow(plt.imread(img_path))\n",
    "#     plt.show()"
   ]
  },
  {
   "cell_type": "code",
   "execution_count": null,
   "metadata": {},
   "outputs": [],
   "source": [
    "print('Original Mesh')\n",
    "mesh_path = os.path.join(log_path, \"vis\", \"original.obj\")\n",
    "\n",
    "img_path = capture(mesh_path, xyz_rotation=xyz_rotation)\n",
    "\n",
    "plt.figure(figsize=(10, 10))\n",
    "plt.imshow(plt.imread(img_path))\n",
    "plt.show()"
   ]
  },
  {
   "cell_type": "code",
   "execution_count": null,
   "metadata": {},
   "outputs": [],
   "source": [
    "print('Output Mesh')\n",
    "# mesh = o3d.io.read_triangle_mesh(os.path.join(log_path, \"vis\", \"new.obj\"))\n",
    "# mesh.compute_vertex_normals()\n",
    "# R = mesh.get_rotation_matrix_from_xyz(xyz_rotation)\n",
    "# o3d.visualization.draw_geometries([mesh.rotate(R, center=mesh.get_center())])\n",
    "\n",
    "mesh_path = os.path.join(log_path, \"vis\", \"new.obj\")\n",
    "img_path = capture(mesh_path, xyz_rotation=xyz_rotation)\n",
    "\n",
    "plt.figure(figsize=(10, 10))\n",
    "plt.imshow(plt.imread(img_path))\n",
    "plt.show()"
   ]
  },
  {
   "cell_type": "code",
   "execution_count": null,
   "metadata": {},
   "outputs": [],
   "source": [
    "print('Baseline (sharpen)')\n",
    "mesh_path = os.path.join(log_path, \"vis\", \"gtr_sharpen.obj\")\n",
    "img_path = capture(mesh_path, xyz_rotation=xyz_rotation)\n",
    "\n",
    "plt.figure(figsize=(10, 10))\n",
    "plt.imshow(plt.imread(img_path))\n",
    "plt.show()"
   ]
  },
  {
   "cell_type": "code",
   "execution_count": null,
   "metadata": {},
   "outputs": [],
   "source": [
    "print('Baseline low poly (sharpen)')\n",
    "mesh_path = os.path.join(log_path, \"vis\", \"gtr_sharpen_smp.obj\")\n",
    "img_path = capture(mesh_path, xyz_rotation=xyz_rotation)\n",
    "\n",
    "plt.figure(figsize=(10, 10))\n",
    "plt.imshow(plt.imread(img_path))\n",
    "plt.show()"
   ]
  },
  {
   "cell_type": "code",
   "execution_count": null,
   "metadata": {},
   "outputs": [],
   "source": [
    "print('Baseline (smooth)')\n",
    "mesh_path = os.path.join(log_path, \"vis\", \"gtr_smooth_highpoly.obj\")\n",
    "img_path = capture(mesh_path, xyz_rotation=xyz_rotation)\n",
    "\n",
    "plt.figure(figsize=(10, 10))\n",
    "plt.imshow(plt.imread(img_path))\n",
    "plt.show()"
   ]
  },
  {
   "cell_type": "code",
   "execution_count": null,
   "metadata": {},
   "outputs": [],
   "source": [
    "print('Baseline low poly (smooth)')\n",
    "\n",
    "mesh_path = os.path.join(log_path, \"vis\", \"gtr_smoothed_smp.obj\")\n",
    "img_path = capture(mesh_path, xyz_rotation=xyz_rotation)\n",
    "\n",
    "plt.figure(figsize=(10, 10))\n",
    "plt.imshow(plt.imread(img_path))\n",
    "plt.show()"
   ]
  },
  {
   "cell_type": "code",
   "execution_count": null,
   "metadata": {},
   "outputs": [],
   "source": []
  },
  {
   "cell_type": "code",
   "execution_count": null,
   "metadata": {},
   "outputs": [],
   "source": []
  }
 ],
 "metadata": {
  "kernelspec": {
   "display_name": "IGP",
   "language": "python",
   "name": "igp"
  },
  "language_info": {
   "codemirror_mode": {
    "name": "ipython",
    "version": 3
   },
   "file_extension": ".py",
   "mimetype": "text/x-python",
   "name": "python",
   "nbconvert_exporter": "python",
   "pygments_lexer": "ipython3",
   "version": "3.6.13"
  }
 },
 "nbformat": 4,
 "nbformat_minor": 4
}
