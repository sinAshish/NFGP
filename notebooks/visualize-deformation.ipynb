{
 "cells": [
  {
   "cell_type": "code",
   "execution_count": null,
   "metadata": {},
   "outputs": [],
   "source": [
    "%load_ext autoreload\n",
    "%autoreload 2\n",
    "\n",
    "import os\n",
    "import sys\n",
    "import numpy as np\n",
    "sys.path.insert(0, \"..\")\n"
   ]
  },
  {
   "cell_type": "code",
   "execution_count": null,
   "metadata": {},
   "outputs": [],
   "source": [
    "import trimesh\n",
    "import matplotlib\n",
    "import numpy as np\n",
    "import meshplot as mp\n",
    "import matplotlib.pyplot as plt"
   ]
  },
  {
   "cell_type": "markdown",
   "metadata": {},
   "source": [
    "# Visualize the Implicit Field"
   ]
  },
  {
   "cell_type": "code",
   "execution_count": null,
   "metadata": {
    "scrolled": true
   },
   "outputs": [],
   "source": [
    "!ls -d pretrained/deform/*rej*/"
   ]
  },
  {
   "cell_type": "code",
   "execution_count": null,
   "metadata": {},
   "outputs": [],
   "source": [
    "# log_path = \"good_logs/deform/armidillo_back_stretch1e-1_bend1e-3_mine_nodetach_gclip10_lr1e-5_rejpresmp_5k_2021-May-25-04-55-14\"\n",
    "# log_path = \"good_logs/deform/armidillo_front_stretch1e-1_bend1e-3_mine_nodetach_gclip10_lr1e-5_rejpresmp_2021-May-25-04-51-24/\"\n",
    "# log_path = \"good_logs/deform/bar_twisting_stretch1e-1_bend1e-3_gclip10_lr1e-5_rejsmp_2021-May-25-13-58-02/\"\n",
    "# log_path = \"good_logs/deform/cactus_side_stretch1e-1_bend1e-3_mine_nodetach_lr1e-5_7.5k_rejsmp_2021-May-25-13-26-44/\"\n",
    "# log_path = \"good_logs/deform/cactus_y_rotate_stretch1e-1_bend1e-3_mine_nodetach_lr1e-5_7.5k_rejsmp_2021-May-25-13-27-20/\"\n",
    "# log_path = \"good_logs/deform/cylinder_rotate_90d_stretch1e-1_bend1e-3_mine_nodetach_gclip10_lr1e-5_rejsmp_2021-May-25-13-59-09/\"\n",
    "# log_path = \"good_logs/deform/cylinder_translate_stretch1e-1_bend1e-3_mine_nodetach_gclip10_lr1e-5_rejsmp_2021-May-25-13-59-57/\"\n",
    "# log_path = \"good_logs/deform/dino_y-45d_stretch1e-1_bend1e-3_mine_nodetach_gclip10_lr1e-5_rejpresmp_2021-May-25-04-46-08/\"\n",
    "# log_path = \"good_logs/deform/armidillo_side_stretch1e-1_bend1e-3_mine_nodetach_gclip10_lr1e-5_rejpresmp_5k_2021-May-26-00-07-48/\"\n",
    "# log_path = \"good_logs/deform/cactus_translate_stretch1e-1_bend1e-3_mine_nodetach_lr1e-5_7.5k_rejsmp_2021-May-25-13-26-00/\"\n",
    "log_path = \"good_logs/deform/cylinder_translate_stretch1e-1_bend1e-3_mine_nodetach_gclip10_lr1e-5_rejsmp_2021-May-25-22-56-05/\""
   ]
  },
  {
   "cell_type": "code",
   "execution_count": null,
   "metadata": {
    "scrolled": true
   },
   "outputs": [],
   "source": [
    "import yaml\n",
    "import argparse\n",
    "from train import dict2namespace\n",
    "from pprint import pprint\n",
    "from trainers.utils.utils import load_imf\n",
    "\n",
    "# parse config file\n",
    "with open(os.path.join(log_path, \"config\", \"config.yaml\"), 'r') as f:\n",
    "    config = yaml.load(f)\n",
    "cfg = config = dict2namespace(config)\n",
    "cfg.save_dir = \"logs\"\n",
    "os.makedirs(\"logs\", exist_ok=True)\n",
    "pprint(config)\n",
    "\n",
    "epoch = None\n",
    "trainer = load_imf(log_path, return_trainer=True, epoch=epoch)\n"
   ]
  },
  {
   "cell_type": "markdown",
   "metadata": {},
   "source": [
    "# Load dataset"
   ]
  },
  {
   "cell_type": "code",
   "execution_count": null,
   "metadata": {},
   "outputs": [],
   "source": [
    "import trimesh\n",
    "import importlib\n",
    "data_lib = importlib.import_module(cfg.data.type)\n",
    "loader = data_lib.get_data_loaders(cfg.data, None)['train_loader']\n",
    "for data in loader:\n",
    "    break\n",
    "    \n",
    "print(data.keys())\n",
    "handles = data['handles'].view(-1, 3).detach().cpu().numpy()\n",
    "targets = data['targets'].view(-1, 3).detach().cpu().numpy()\n",
    "print(handles.shape, targets.shape)\n",
    "\n",
    "gtr_mesh = trimesh.Trimesh(\n",
    "    vertices=data['gtr_verts'].cpu().view(-1, 3).numpy(),\n",
    "    faces=data['gtr_faces'].cpu().view(-1, 3).numpy()\n",
    ")\n",
    "gtr_mesh.show()"
   ]
  },
  {
   "cell_type": "markdown",
   "metadata": {},
   "source": [
    "# Get the output Mesh"
   ]
  },
  {
   "cell_type": "code",
   "execution_count": null,
   "metadata": {},
   "outputs": [],
   "source": [
    "from trainers.utils.vis_utils import imf2mesh\n",
    "from trainers.utils.igp_process import trimesh_to_o3dmesh\n",
    "res = 256\n",
    "out_mesh = imf2mesh(lambda x: trainer.decoder(x, None), res=res, normalize=True, bound=1.2)\n",
    "out_mesh.show()\n"
   ]
  },
  {
   "cell_type": "markdown",
   "metadata": {},
   "source": [
    "# Output information for drawing"
   ]
  },
  {
   "cell_type": "code",
   "execution_count": null,
   "metadata": {},
   "outputs": [],
   "source": [
    "res_path = os.path.join(log_path, \"results\")\n",
    "os.makedirs(res_path, exist_ok=True)\n",
    "print(res_path)\n"
   ]
  },
  {
   "cell_type": "code",
   "execution_count": null,
   "metadata": {},
   "outputs": [],
   "source": [
    "inp_mesh_path = os.path.join(res_path, \"inp.obj\")\n",
    "trainer.original_mesh.export(inp_mesh_path)\n",
    "print(inp_mesh_path)\n",
    "\n",
    "out_mesh_path = os.path.join(res_path, \"ours.obj\")\n",
    "out_mesh.export(out_mesh_path)\n",
    "print(out_mesh_path)\n",
    "\n",
    "arap_mesh_path = os.path.join(res_path, \"arap.obj\")\n",
    "gtr_mesh.export(arap_mesh_path)\n",
    "print(arap_mesh_path)\n",
    "\n",
    "handles_path = os.path.join(res_path, \"handles.npy\")\n",
    "np.save(handles_path, handles)\n",
    "print(handles_path)\n",
    "\n",
    "targets_path = os.path.join(res_path, \"targets.npy\")\n",
    "np.save(targets_path, targets)\n",
    "print(targets_path)"
   ]
  },
  {
   "cell_type": "code",
   "execution_count": null,
   "metadata": {},
   "outputs": [],
   "source": [
    "print(\"Gtr\")\n",
    "print(\"\\tarea:\", gtr_mesh.area/trainer.original_mesh.area)\n",
    "print(\"\\tmass:\", gtr_mesh.mass/trainer.original_mesh.mass)\n",
    "\n",
    "print(\"Ours\")\n",
    "print(\"\\tarea:\", out_mesh.area/trainer.original_mesh.area)\n",
    "print(\"\\tmass:\", out_mesh.mass/trainer.original_mesh.mass)\n"
   ]
  },
  {
   "cell_type": "markdown",
   "metadata": {},
   "source": [
    "# Draw:\n",
    "1. Handles: red\n",
    "2. Targets: blue\n",
    "3. Shape: silver"
   ]
  },
  {
   "cell_type": "code",
   "execution_count": null,
   "metadata": {},
   "outputs": [],
   "source": [
    "out_mesh_o3d =  o3d.io.read_triangle_mesh(out_mesh_path)\n",
    "out_mesh_o3d.compute_vertex_normals()\n",
    "\n",
    "o3d_handles = o3d.geometry.PointCloud()\n",
    "o3d_handles.points = o3d.utility.Vector3dVector(np.load(handles_path))\n",
    "o3d_handles.paint_uniform_color([1, 0., 0])\n",
    "\n",
    "o3d_targets = o3d.geometry.PointCloud()\n",
    "o3d_targets.points = o3d.utility.Vector3dVector(np.load(targets_path))\n",
    "o3d_targets.paint_uniform_color([0., 0., 1])\n",
    "\n",
    "\n",
    "o3d.visualization.draw_geometries([out_mesh_o3d, o3d_handles, o3d_targets], width=1024, height=1024)\n",
    "# o3d.visualization.draw_geometries([out_mesh_o3d], width=1024, height=1024)\n"
   ]
  },
  {
   "cell_type": "code",
   "execution_count": null,
   "metadata": {},
   "outputs": [],
   "source": [
    "out_mesh_o3d =  o3d.io.read_triangle_mesh(arap_mesh_path)\n",
    "out_mesh_o3d.compute_vertex_normals()\n",
    "\n",
    "o3d_handles = o3d.geometry.PointCloud()\n",
    "o3d_handles.points = o3d.utility.Vector3dVector(np.load(handles_path))\n",
    "o3d_handles.paint_uniform_color([1, 0., 0])\n",
    "\n",
    "o3d_targets = o3d.geometry.PointCloud()\n",
    "o3d_targets.points = o3d.utility.Vector3dVector(np.load(targets_path))\n",
    "o3d_targets.paint_uniform_color([0., 0., 1])\n",
    "\n",
    "\n",
    "o3d.visualization.draw_geometries([out_mesh_o3d, o3d_handles, o3d_targets], width=1024, height=1024)\n",
    "# o3d.visualization.draw_geometries([out_mesh_o3d], width=1024, height=1024)\n"
   ]
  },
  {
   "cell_type": "code",
   "execution_count": null,
   "metadata": {},
   "outputs": [],
   "source": [
    "out_mesh_o3d =  o3d.io.read_triangle_mesh(inp_mesh_path)\n",
    "out_mesh_o3d.compute_vertex_normals()\n",
    "\n",
    "o3d_handles = o3d.geometry.PointCloud()\n",
    "o3d_handles.points = o3d.utility.Vector3dVector(np.load(handles_path))\n",
    "o3d_handles.paint_uniform_color([1, 0., 0])\n",
    "\n",
    "o3d_targets = o3d.geometry.PointCloud()\n",
    "o3d_targets.points = o3d.utility.Vector3dVector(np.load(targets_path))\n",
    "o3d_targets.paint_uniform_color([0., 0., 1])\n",
    "\n",
    "\n",
    "o3d.visualization.draw_geometries([out_mesh_o3d, o3d_handles, o3d_targets], width=1024, height=1024)\n"
   ]
  },
  {
   "cell_type": "code",
   "execution_count": null,
   "metadata": {},
   "outputs": [],
   "source": [
    "o3d_handles.paint_uniform_color([1, 0., 0])\n",
    "o3d.visualization.draw_geometries([out_mesh_o3d, o3d_handles], width=1024, height=1024)"
   ]
  },
  {
   "cell_type": "code",
   "execution_count": null,
   "metadata": {},
   "outputs": [],
   "source": []
  },
  {
   "cell_type": "code",
   "execution_count": null,
   "metadata": {},
   "outputs": [],
   "source": []
  }
 ],
 "metadata": {
  "kernelspec": {
   "display_name": "IGP",
   "language": "python",
   "name": "igp"
  },
  "language_info": {
   "codemirror_mode": {
    "name": "ipython",
    "version": 3
   },
   "file_extension": ".py",
   "mimetype": "text/x-python",
   "name": "python",
   "nbconvert_exporter": "python",
   "pygments_lexer": "ipython3",
   "version": "3.6.13"
  }
 },
 "nbformat": 4,
 "nbformat_minor": 4
}
