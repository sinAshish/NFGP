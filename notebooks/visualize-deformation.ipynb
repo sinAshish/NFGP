{
 "cells": [
  {
   "cell_type": "code",
   "execution_count": 1,
   "metadata": {},
   "outputs": [
    {
     "name": "stdout",
     "output_type": "stream",
     "text": [
      "/home/gy46/NFGP\n"
     ]
    }
   ],
   "source": [
    "%load_ext autoreload\n",
    "%autoreload 2\n",
    "\n",
    "import os\n",
    "import sys\n",
    "import numpy as np\n",
    "os.chdir(\"..\")\n",
    "print(os.getcwd())\n",
    "sys.path.insert(0, os.getcwd())"
   ]
  },
  {
   "cell_type": "code",
   "execution_count": null,
   "metadata": {},
   "outputs": [],
   "source": []
  },
  {
   "cell_type": "code",
   "execution_count": 2,
   "metadata": {},
   "outputs": [],
   "source": [
    "import trimesh\n",
    "import matplotlib\n",
    "import numpy as np\n",
    "import meshplot as mp\n",
    "import matplotlib.pyplot as plt"
   ]
  },
  {
   "cell_type": "markdown",
   "metadata": {},
   "source": [
    "# Visualize the Implicit Field"
   ]
  },
  {
   "cell_type": "code",
   "execution_count": 3,
   "metadata": {
    "scrolled": true
   },
   "outputs": [
    {
     "name": "stdout",
     "output_type": "stream",
     "text": [
      "logs/bar_twist_s1e-1_b1e-3_2021-Nov-26-17-52-13/\r\n",
      "logs/bar_twist_s1e-1_b1e-5_2021-Nov-28-12-13-04/\r\n",
      "logs/cactus_translate_s1e-1_b1e-3_2021-Nov-28-12-13-06/\r\n",
      "logs/cactus_xrotate_s1e-1_b1e-3_2021-Nov-28-12-13-11/\r\n",
      "logs/cactus_yrotate_s1e-1_b1e-3_2021-Nov-28-12-13-12/\r\n",
      "logs/checkpoints/\r\n",
      "logs/cylinder_rotate_s1e-1_b1e-3_2021-Nov-23-09-45-21/\r\n",
      "logs/cylinder_translate_s1e-1_b1e-3_2021-Nov-23-09-45-39/\r\n",
      "logs/dino_bend_s0_b1e-3_2021-Nov-21-16-47-21/\r\n",
      "logs/dino_bend_s1e-1_b0_2021-Nov-21-16-47-17/\r\n",
      "logs/dino_bend_s1e-1_b1e-3_2021-Nov-21-16-43-33/\r\n",
      "logs/dino_bend_s1e-1_b1e-3_2021-Nov-23-09-45-52/\r\n",
      "logs/dino_bend_s1e-1_b1e-3_hthr1e-4_2021-Nov-21-16-47-25/\r\n",
      "logs/images/\r\n",
      "logs/val/\r\n",
      "logs/vis/\r\n"
     ]
    }
   ],
   "source": [
    "!ls -d logs/*/"
   ]
  },
  {
   "cell_type": "code",
   "execution_count": 9,
   "metadata": {},
   "outputs": [],
   "source": [
    "# log_path = \"logs/cylinder_rotate_s1e-1_b1e-3_2021-Nov-23-09-45-21/\"\n",
    "log_path = \"logs/bar_twist_s1e-1_b1e-5_2021-Nov-28-12-13-04/\""
   ]
  },
  {
   "cell_type": "code",
   "execution_count": 10,
   "metadata": {
    "scrolled": true
   },
   "outputs": [
    {
     "name": "stderr",
     "output_type": "stream",
     "text": [
      "/home/gy46/NFGP/utils.py:51: YAMLLoadWarning: calling yaml.load() without Loader=... is deprecated, as the default Loader is unsafe. Please read https://msg.pyyaml.org/load for full details.\n",
      "  cfg = dict2namespace(yaml.load(f))\n"
     ]
    },
    {
     "name": "stdout",
     "output_type": "stream",
     "text": [
      "logs/bar_twist_s1e-1_b1e-5_2021-Nov-28-12-13-04/checkpoints/epoch_999_iters_100000.pt\n",
      "Original Decoder:\n",
      "Net(\n",
      "  (blocks): ModuleList(\n",
      "    (0): Linear(in_features=3, out_features=512, bias=True)\n",
      "    (1): Linear(in_features=512, out_features=512, bias=True)\n",
      "    (2): Linear(in_features=512, out_features=512, bias=True)\n",
      "    (3): Linear(in_features=512, out_features=1, bias=True)\n",
      "  )\n",
      "  (act): Sine()\n",
      ")\n",
      "Net(\n",
      "  (blocks): ModuleList(\n",
      "    (0): InvertibleResBlockLinear(\n",
      "      (pos_enc): LipBoundedPosEnc()\n",
      "      (blocks): ModuleList(\n",
      "        (0): Linear(in_features=33, out_features=256, bias=True)\n",
      "        (1): Linear(in_features=256, out_features=256, bias=True)\n",
      "        (2): Linear(in_features=256, out_features=3, bias=True)\n",
      "      )\n",
      "      (act): ELU(alpha=1.0)\n",
      "    )\n",
      "    (1): InvertibleResBlockLinear(\n",
      "      (pos_enc): LipBoundedPosEnc()\n",
      "      (blocks): ModuleList(\n",
      "        (0): Linear(in_features=33, out_features=256, bias=True)\n",
      "        (1): Linear(in_features=256, out_features=256, bias=True)\n",
      "        (2): Linear(in_features=256, out_features=3, bias=True)\n",
      "      )\n",
      "      (act): ELU(alpha=1.0)\n",
      "    )\n",
      "    (2): InvertibleResBlockLinear(\n",
      "      (pos_enc): LipBoundedPosEnc()\n",
      "      (blocks): ModuleList(\n",
      "        (0): Linear(in_features=33, out_features=256, bias=True)\n",
      "        (1): Linear(in_features=256, out_features=256, bias=True)\n",
      "        (2): Linear(in_features=256, out_features=3, bias=True)\n",
      "      )\n",
      "      (act): ELU(alpha=1.0)\n",
      "    )\n",
      "    (3): InvertibleResBlockLinear(\n",
      "      (pos_enc): LipBoundedPosEnc()\n",
      "      (blocks): ModuleList(\n",
      "        (0): Linear(in_features=33, out_features=256, bias=True)\n",
      "        (1): Linear(in_features=256, out_features=256, bias=True)\n",
      "        (2): Linear(in_features=256, out_features=3, bias=True)\n",
      "      )\n",
      "      (act): ELU(alpha=1.0)\n",
      "    )\n",
      "    (4): InvertibleResBlockLinear(\n",
      "      (pos_enc): LipBoundedPosEnc()\n",
      "      (blocks): ModuleList(\n",
      "        (0): Linear(in_features=33, out_features=256, bias=True)\n",
      "        (1): Linear(in_features=256, out_features=256, bias=True)\n",
      "        (2): Linear(in_features=256, out_features=3, bias=True)\n",
      "      )\n",
      "      (act): ELU(alpha=1.0)\n",
      "    )\n",
      "    (5): InvertibleResBlockLinear(\n",
      "      (pos_enc): LipBoundedPosEnc()\n",
      "      (blocks): ModuleList(\n",
      "        (0): Linear(in_features=33, out_features=256, bias=True)\n",
      "        (1): Linear(in_features=256, out_features=256, bias=True)\n",
      "        (2): Linear(in_features=256, out_features=3, bias=True)\n",
      "      )\n",
      "      (act): ELU(alpha=1.0)\n",
      "    )\n",
      "  )\n",
      ")\n"
     ]
    },
    {
     "name": "stderr",
     "output_type": "stream",
     "text": [
      "100%|██████████| 1678/1678 [00:04<00:00, 405.28it/s]\n"
     ]
    },
    {
     "data": {
      "text/plain": [
       "(DeformationWrapper(\n",
       "   (orig): Net(\n",
       "     (blocks): ModuleList(\n",
       "       (0): Linear(in_features=3, out_features=512, bias=True)\n",
       "       (1): Linear(in_features=512, out_features=512, bias=True)\n",
       "       (2): Linear(in_features=512, out_features=512, bias=True)\n",
       "       (3): Linear(in_features=512, out_features=1, bias=True)\n",
       "     )\n",
       "     (act): Sine()\n",
       "   )\n",
       "   (deform): Net(\n",
       "     (blocks): ModuleList(\n",
       "       (0): InvertibleResBlockLinear(\n",
       "         (pos_enc): LipBoundedPosEnc()\n",
       "         (blocks): ModuleList(\n",
       "           (0): Linear(in_features=33, out_features=256, bias=True)\n",
       "           (1): Linear(in_features=256, out_features=256, bias=True)\n",
       "           (2): Linear(in_features=256, out_features=3, bias=True)\n",
       "         )\n",
       "         (act): ELU(alpha=1.0)\n",
       "       )\n",
       "       (1): InvertibleResBlockLinear(\n",
       "         (pos_enc): LipBoundedPosEnc()\n",
       "         (blocks): ModuleList(\n",
       "           (0): Linear(in_features=33, out_features=256, bias=True)\n",
       "           (1): Linear(in_features=256, out_features=256, bias=True)\n",
       "           (2): Linear(in_features=256, out_features=3, bias=True)\n",
       "         )\n",
       "         (act): ELU(alpha=1.0)\n",
       "       )\n",
       "       (2): InvertibleResBlockLinear(\n",
       "         (pos_enc): LipBoundedPosEnc()\n",
       "         (blocks): ModuleList(\n",
       "           (0): Linear(in_features=33, out_features=256, bias=True)\n",
       "           (1): Linear(in_features=256, out_features=256, bias=True)\n",
       "           (2): Linear(in_features=256, out_features=3, bias=True)\n",
       "         )\n",
       "         (act): ELU(alpha=1.0)\n",
       "       )\n",
       "       (3): InvertibleResBlockLinear(\n",
       "         (pos_enc): LipBoundedPosEnc()\n",
       "         (blocks): ModuleList(\n",
       "           (0): Linear(in_features=33, out_features=256, bias=True)\n",
       "           (1): Linear(in_features=256, out_features=256, bias=True)\n",
       "           (2): Linear(in_features=256, out_features=3, bias=True)\n",
       "         )\n",
       "         (act): ELU(alpha=1.0)\n",
       "       )\n",
       "       (4): InvertibleResBlockLinear(\n",
       "         (pos_enc): LipBoundedPosEnc()\n",
       "         (blocks): ModuleList(\n",
       "           (0): Linear(in_features=33, out_features=256, bias=True)\n",
       "           (1): Linear(in_features=256, out_features=256, bias=True)\n",
       "           (2): Linear(in_features=256, out_features=3, bias=True)\n",
       "         )\n",
       "         (act): ELU(alpha=1.0)\n",
       "       )\n",
       "       (5): InvertibleResBlockLinear(\n",
       "         (pos_enc): LipBoundedPosEnc()\n",
       "         (blocks): ModuleList(\n",
       "           (0): Linear(in_features=33, out_features=256, bias=True)\n",
       "           (1): Linear(in_features=256, out_features=256, bias=True)\n",
       "           (2): Linear(in_features=256, out_features=3, bias=True)\n",
       "         )\n",
       "         (act): ELU(alpha=1.0)\n",
       "       )\n",
       "     )\n",
       "   )\n",
       " ),\n",
       " Namespace(data=Namespace(num_workers=4, path='data/bar/deform_twist90.npy', train=Namespace(batch_size=1, length=100), type='datasets.deform_handles_datasets', val=Namespace(batch_size=1, length=1)), log_dir='logs/bar_twist_s1e-1_b1e-5_2021-Nov-28-12-13-04', log_name='logs/bar_twist_s1e-1_b1e-5_2021-Nov-28-12-13-04', models=Namespace(decoder=Namespace(dim=3, hidden_size=512, n_blocks=2, out_dim=1, path='pretrained/neural_fields/bar/latest.pt', type='models.siren_mlp', z_dim=1), deform_decoder=Namespace(dim=3, hidden_size=256, n_blocks=6, nonlin='elu', out_dim=3, pos_enc_freq=5, type='models.inv_res'), deform_wrapper=Namespace(delta_x_add=False)), save_dir='logs', trainer=Namespace(epochs=1000, loss_bend=Namespace(weight='1e-5'), loss_g=Namespace(num_points=0, weight=0.0), loss_h_thr='1e-4', loss_h_weight=100.0, loss_stretch=Namespace(weight='1e-1'), opt=Namespace(beta1=0.9, beta2=0.999, lr='1e-5', momentum=0.9, type='adam', weight_decay=0.0), sample_cfg=Namespace(detach_weight=True, num_points=5000, use_rejection=True), seed=100, show_network_hist=False, type='trainers.implicit_deform_3D', wrapper_type='deformation'), viz=Namespace(log_freq=1, save_freq=10, val_freq=1, viz_freq=100)))"
      ]
     },
     "execution_count": 10,
     "metadata": {},
     "output_type": "execute_result"
    }
   ],
   "source": [
    "import os.path as osp\n",
    "from utils import load_imf\n",
    "\n",
    "net, cfg = load_imf(\n",
    "    log_path, \n",
    "    return_cfg=True)\n",
    "net, cfg"
   ]
  },
  {
   "cell_type": "markdown",
   "metadata": {},
   "source": [
    "# Load dataset"
   ]
  },
  {
   "cell_type": "code",
   "execution_count": 11,
   "metadata": {},
   "outputs": [
    {
     "name": "stdout",
     "output_type": "stream",
     "text": [
      "dict_keys(['idx', 'handles', 'targets', 'gtr_verts', 'gtr_faces'])\n",
      "(996, 3) (996, 3)\n"
     ]
    },
    {
     "data": {
      "application/vnd.jupyter.widget-view+json": {
       "model_id": "39c35eef326c4fe1a50216314a00492a",
       "version_major": 2,
       "version_minor": 0
      },
      "text/plain": [
       "Renderer(camera=PerspectiveCamera(children=(DirectionalLight(color='white', intensity=0.6, position=(-0.000789…"
      ]
     },
     "metadata": {},
     "output_type": "display_data"
    },
    {
     "data": {
      "text/plain": [
       "2"
      ]
     },
     "execution_count": 11,
     "metadata": {},
     "output_type": "execute_result"
    }
   ],
   "source": [
    "import trimesh\n",
    "import importlib\n",
    "data_lib = importlib.import_module(cfg.data.type)\n",
    "loader = data_lib.get_data_loaders(cfg.data, None)['train_loader']\n",
    "for data in loader:\n",
    "    break\n",
    "    \n",
    "print(data.keys())\n",
    "handles = data['handles'].view(-1, 3).detach().cpu().numpy()\n",
    "targets = data['targets'].view(-1, 3).detach().cpu().numpy()\n",
    "print(handles.shape, targets.shape)\n",
    "\n",
    "\n",
    "p = mp.plot(data['gtr_verts'].cpu().view(-1, 3).numpy(), \n",
    "        data['gtr_faces'].cpu().view(-1, 3).numpy())\n",
    "p.add_points(handles, shading={'point_color': 'red', 'point_size': 0.05})\n",
    "p.add_points(targets, shading={'point_color': 'blue', 'point_size': 0.05})"
   ]
  },
  {
   "cell_type": "markdown",
   "metadata": {},
   "source": [
    "# Get the output Mesh"
   ]
  },
  {
   "cell_type": "code",
   "execution_count": 12,
   "metadata": {},
   "outputs": [
    {
     "name": "stderr",
     "output_type": "stream",
     "text": [
      "100%|██████████| 1678/1678 [00:18<00:00, 88.67it/s]\n"
     ]
    }
   ],
   "source": [
    "from trainers.utils.vis_utils import imf2mesh\n",
    "res = 256\n",
    "out_mesh = imf2mesh(net, res=res, normalize=True, bound=1.2)"
   ]
  },
  {
   "cell_type": "code",
   "execution_count": 13,
   "metadata": {},
   "outputs": [
    {
     "data": {
      "application/vnd.jupyter.widget-view+json": {
       "model_id": "3d1288f4fc724bb1bdd0a352f1fcf5b2",
       "version_major": 2,
       "version_minor": 0
      },
      "text/plain": [
       "Renderer(camera=PerspectiveCamera(children=(DirectionalLight(color='white', intensity=0.6, position=(-0.070613…"
      ]
     },
     "metadata": {},
     "output_type": "display_data"
    },
    {
     "data": {
      "text/plain": [
       "2"
      ]
     },
     "execution_count": 13,
     "metadata": {},
     "output_type": "execute_result"
    }
   ],
   "source": [
    "p = mp.plot(out_mesh.vertices.astype(np.float32), out_mesh.faces.astype(np.float32)) \n",
    "p.add_points(handles, shading={'point_color': 'red', 'point_size': 0.05})\n",
    "p.add_points(targets, shading={'point_color': 'blue', 'point_size': 0.05})"
   ]
  },
  {
   "cell_type": "code",
   "execution_count": null,
   "metadata": {},
   "outputs": [],
   "source": [
    "# Visualize the original neural fields"
   ]
  }
 ],
 "metadata": {
  "kernelspec": {
   "display_name": "IGP",
   "language": "python",
   "name": "igp"
  },
  "language_info": {
   "codemirror_mode": {
    "name": "ipython",
    "version": 3
   },
   "file_extension": ".py",
   "mimetype": "text/x-python",
   "name": "python",
   "nbconvert_exporter": "python",
   "pygments_lexer": "ipython3",
   "version": "3.6.10"
  }
 },
 "nbformat": 4,
 "nbformat_minor": 4
}
