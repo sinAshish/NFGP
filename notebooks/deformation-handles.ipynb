{
 "cells": [
  {
   "cell_type": "code",
   "execution_count": null,
   "metadata": {},
   "outputs": [],
   "source": [
    "%load_ext autoreload\n",
    "%autoreload 2\n",
    "\n",
    "import os\n",
    "import sys\n",
    "import numpy as np\n",
    "sys.path.insert(0, \"..\")"
   ]
  },
  {
   "cell_type": "code",
   "execution_count": null,
   "metadata": {},
   "outputs": [],
   "source": [
    "import trimesh\n",
    "import matplotlib\n",
    "import numpy as np\n",
    "import meshplot as mp\n",
    "import matplotlib.pyplot as plt"
   ]
  },
  {
   "cell_type": "markdown",
   "metadata": {},
   "source": [
    "# Visualize the Implicit Field"
   ]
  },
  {
   "cell_type": "code",
   "execution_count": null,
   "metadata": {},
   "outputs": [],
   "source": [
    "!ls ../pretrained/neural_fields/"
   ]
  },
  {
   "cell_type": "code",
   "execution_count": null,
   "metadata": {},
   "outputs": [],
   "source": [
    "log_path = \"../pretrained/neural_fields/jolteon\""
   ]
  },
  {
   "cell_type": "code",
   "execution_count": null,
   "metadata": {},
   "outputs": [],
   "source": [
    "import yaml\n",
    "import argparse\n",
    "import os.path as osp\n",
    "from train import dict2namespace\n",
    "from pprint import pprint\n",
    "from utils import load_imf\n",
    "\n",
    "original, cfg = load_imf(\n",
    "    log_path, \n",
    "    config_fpath=osp.join(log_path, \"config.yaml\"), \n",
    "    return_cfg=True)\n",
    "original"
   ]
  },
  {
   "cell_type": "code",
   "execution_count": null,
   "metadata": {},
   "outputs": [],
   "source": [
    "import numpy as np\n",
    "import torch\n",
    "from tqdm import tqdm\n",
    "import skimage\n",
    "import skimage.measure\n",
    "from trainers.utils.vis_utils import imf2mesh\n",
    "    \n",
    "original.eval()\n",
    "res = 256\n",
    "new_mesh = imf2mesh(original, res=res, threshold=0.00, normalize=True, norm_type='res')\n",
    "new_mesh"
   ]
  },
  {
   "cell_type": "code",
   "execution_count": null,
   "metadata": {},
   "outputs": [],
   "source": [
    "# verts = (new_mesh.vertices * 2 - res) / float(res)\n",
    "# new_mesh = trimesh.Trimesh(vertices=verts, faces=new_mesh.faces)\n",
    "print(new_mesh.vertices.max(), new_mesh.vertices.min())\n",
    "mp.plot(new_mesh.vertices, new_mesh.faces)"
   ]
  },
  {
   "cell_type": "markdown",
   "metadata": {},
   "source": [
    "# Creating Handles\n",
    "\n",
    "1. Creating a set of deforming handles (i.e. sparse points on the surface that will change according to the shape)\n",
    "2. Creating a set of statisc handles (i.e. sparse points on the surface that will remain unchanged)"
   ]
  },
  {
   "cell_type": "code",
   "execution_count": null,
   "metadata": {},
   "outputs": [],
   "source": [
    "verts, faces = new_mesh.vertices, new_mesh.faces\n",
    "print(verts.max(axis=0))\n",
    "print(verts.min(axis=0))"
   ]
  },
  {
   "cell_type": "code",
   "execution_count": null,
   "metadata": {},
   "outputs": [],
   "source": [
    "from scipy.spatial.transform import Rotation as ROT\n",
    "\n",
    "# neg_vert = np.concatenate([\n",
    "#     verts[\n",
    "#         np.logical_and(verts[:, 1] < -0.65, verts[:, 2] > 0), :],\n",
    "#     verts[\n",
    "#         np.logical_and(verts[:, 1] < -0.65, np.logical_and(verts[:, 2] < 0, verts[:, 0] < 0)), :]\n",
    "# ], axis=0)\n",
    "# pos_vert = verts[\n",
    "#     np.logical_and(verts[:, 1] < -0.65, np.logical_and(verts[:, 2] < 0, verts[:, 0] > 0)), \n",
    "#     :]\n",
    "\n",
    "neg_vert = verts[np.logical_and(verts[:, 1] < -0.65, verts[:, 2] > 0), :]\n",
    "pos_vert = verts[np.logical_and(verts[:, 1] < -0.65, verts[:, 2] < 0), :]\n",
    "\n",
    "# Rotate around the a center, with certain eular angle\n",
    "rot_degree = -45\n",
    "rot_axis = 'x'\n",
    "rot_mat = ROT.from_euler(rot_axis, rot_degree, degrees=True).as_matrix()\n",
    "# center = np.array([0, -0.35, -0.05]).reshape(1, 3)\n",
    "center = np.array([0, -0., -0.0]).reshape(1, 3)\n",
    "translate = np.array([0., 0.0, -0.1]).reshape(1, 3)\n",
    "pos_vert_transf = np.matmul(pos_vert - center, rot_mat) + center + translate\n",
    "\n",
    "p = mp.plot(new_mesh.vertices, new_mesh.faces)\n",
    "p.add_points(neg_vert, shading={\"point_color\": \"blue\", \"point_size\": 0.05})\n",
    "p.add_points(pos_vert, shading={\"point_color\": \"red\", \"point_size\": 0.05})\n",
    "p.add_points(center, shading={\"point_color\": \"black\", \"point_size\": 0.3})\n",
    "p.add_points(pos_vert_transf, shading={\"point_color\": \"green\", \"point_size\": 0.05})"
   ]
  },
  {
   "cell_type": "markdown",
   "metadata": {},
   "source": [
    "# Compare to Open3D ASAP Algorithm"
   ]
  },
  {
   "cell_type": "code",
   "execution_count": null,
   "metadata": {
    "scrolled": true
   },
   "outputs": [],
   "source": [
    "from trainers.utils.o3d_deformation import deform_mesh_o3d, trimesh_to_o3dmesh, o3dmesh_to_trimesh\n",
    "\n",
    "handles = np.concatenate([neg_vert, pos_vert], axis=0)\n",
    "targets = np.concatenate([neg_vert, pos_vert_transf], axis=0)\n",
    "\n",
    "mesh_prime_tri = deform_mesh_o3d(original, handles, targets, imf_mesh = new_mesh, \n",
    "                                 steps=1000, smoothed_alpha=1.)\n"
   ]
  },
  {
   "cell_type": "code",
   "execution_count": null,
   "metadata": {},
   "outputs": [],
   "source": [
    "p = mp.plot(mesh_prime_tri.vertices, mesh_prime_tri.faces)\n",
    "p.add_points(neg_vert, shading={\"point_color\": \"blue\", \"point_size\": 0.05})\n",
    "p.add_points(pos_vert, shading={\"point_color\": \"red\", \"point_size\": 0.05})\n",
    "p.add_points(pos_vert_transf, shading={\"point_color\": \"green\", \"point_size\": 0.05})"
   ]
  },
  {
   "cell_type": "code",
   "execution_count": null,
   "metadata": {},
   "outputs": [],
   "source": [
    "mesh_prime_o3d = trimesh_to_o3dmesh(mesh_prime_tri)\n",
    "# o3d_pcl = o3d.geometry.PointCloud(o3d.utility.Vector3dVector(targets))\n",
    "# mesh_prime_o3d.compute_vertex_normals()\n",
    "# mesh_prime_o3d.paint_uniform_color([0.1, 0.5, 0.1])\n",
    "# o3d_mesh0 = trimesh_to_o3dmesh(new_mesh)\n",
    "# o3d_mesh0.paint_uniform_color([0.1, 0.1, 0.5])\n",
    "# o3d.visualization.draw_geometries([mesh_prime_o3d, o3d_mesh0, o3d_pcl])"
   ]
  },
  {
   "cell_type": "code",
   "execution_count": null,
   "metadata": {},
   "outputs": [],
   "source": [
    "# # Saving it to data\n",
    "# out_dir = \"../data/jolteon/deform_%s_rotate%d.npy\" % (rot_axis, rot_degree)\n",
    "# np.save(out_dir, {\n",
    "#     \"handles\": handles,\n",
    "#     \"targets\": targets,\n",
    "#     'gtr_verts': mesh_prime_tri.vertices,\n",
    "#     'gtr_faces': mesh_prime_tri.faces\n",
    "# })\n",
    "# out_dir"
   ]
  },
  {
   "cell_type": "code",
   "execution_count": null,
   "metadata": {},
   "outputs": [],
   "source": []
  },
  {
   "cell_type": "code",
   "execution_count": null,
   "metadata": {},
   "outputs": [],
   "source": []
  }
 ],
 "metadata": {
  "kernelspec": {
   "display_name": "IGP",
   "language": "python",
   "name": "igp"
  },
  "language_info": {
   "codemirror_mode": {
    "name": "ipython",
    "version": 3
   },
   "file_extension": ".py",
   "mimetype": "text/x-python",
   "name": "python",
   "nbconvert_exporter": "python",
   "pygments_lexer": "ipython3",
   "version": "3.6.10"
  }
 },
 "nbformat": 4,
 "nbformat_minor": 4
}
