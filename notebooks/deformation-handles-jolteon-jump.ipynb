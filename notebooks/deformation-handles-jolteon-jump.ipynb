{
 "cells": [
  {
   "cell_type": "code",
   "execution_count": null,
   "metadata": {},
   "outputs": [],
   "source": [
    "%load_ext autoreload\n",
    "%autoreload 2\n",
    "\n",
    "import os\n",
    "import sys\n",
    "import numpy as np\n",
    "sys.path.insert(0, \"..\")"
   ]
  },
  {
   "cell_type": "code",
   "execution_count": null,
   "metadata": {},
   "outputs": [],
   "source": [
    "import trimesh\n",
    "import matplotlib\n",
    "import numpy as np\n",
    "import meshplot as mp\n",
    "import matplotlib.pyplot as plt"
   ]
  },
  {
   "cell_type": "markdown",
   "metadata": {},
   "source": [
    "# Visualize the Implicit Field"
   ]
  },
  {
   "cell_type": "code",
   "execution_count": null,
   "metadata": {},
   "outputs": [],
   "source": [
    "!ls ../pretrained/neural_fields/"
   ]
  },
  {
   "cell_type": "code",
   "execution_count": null,
   "metadata": {},
   "outputs": [],
   "source": [
    "log_path = \"../pretrained/neural_fields/jolteon\""
   ]
  },
  {
   "cell_type": "code",
   "execution_count": null,
   "metadata": {},
   "outputs": [],
   "source": [
    "import yaml\n",
    "import argparse\n",
    "import os.path as osp\n",
    "from train import dict2namespace\n",
    "from pprint import pprint\n",
    "from utils import load_imf\n",
    "\n",
    "original, cfg = load_imf(\n",
    "    log_path, \n",
    "    config_fpath=osp.join(log_path, \"config.yaml\"), \n",
    "    return_cfg=True)\n",
    "original"
   ]
  },
  {
   "cell_type": "code",
   "execution_count": null,
   "metadata": {},
   "outputs": [],
   "source": [
    "import numpy as np\n",
    "import torch\n",
    "from tqdm import tqdm\n",
    "import skimage\n",
    "import skimage.measure\n",
    "from trainers.utils.vis_utils import imf2mesh\n",
    "    \n",
    "original.eval()\n",
    "res = 256\n",
    "new_mesh = imf2mesh(original, res=res, threshold=0.00, normalize=True, norm_type='res')\n",
    "new_mesh"
   ]
  },
  {
   "cell_type": "code",
   "execution_count": null,
   "metadata": {},
   "outputs": [],
   "source": [
    "# verts = (new_mesh.vertices * 2 - res) / float(res)\n",
    "# new_mesh = trimesh.Trimesh(vertices=verts, faces=new_mesh.faces)\n",
    "print(new_mesh.vertices.max(), new_mesh.vertices.min())\n",
    "mp.plot(new_mesh.vertices, new_mesh.faces)"
   ]
  },
  {
   "cell_type": "markdown",
   "metadata": {},
   "source": [
    "# Creating Handles\n",
    "\n",
    "1. Creating a set of deforming handles (i.e. sparse points on the surface that will change according to the shape)\n",
    "2. Creating a set of statisc handles (i.e. sparse points on the surface that will remain unchanged)"
   ]
  },
  {
   "cell_type": "code",
   "execution_count": null,
   "metadata": {},
   "outputs": [],
   "source": [
    "verts, faces = new_mesh.vertices, new_mesh.faces\n",
    "print(verts.max(axis=0))\n",
    "print(verts.min(axis=0))"
   ]
  },
  {
   "cell_type": "code",
   "execution_count": null,
   "metadata": {},
   "outputs": [],
   "source": [
    "left_front = verts[(verts[:, 1] < -0.67) & (verts[:, 2] < 0) &  (verts[:, 0] < 0), :]\n",
    "right_front = verts[(verts[:, 1] < -0.67) & (verts[:, 2] < 0) & (verts[:, 0] > 0), :]\n",
    "\n",
    "right_back = verts[(verts[:, 1] < -0.67) & (verts[:, 2] > 0) & (verts[:, 0] > 0), :]\n",
    "left_back = verts[(verts[:, 1] < -0.67) & (verts[:, 2] > 0) & (verts[:, 0] < 0), :]\n",
    "\n",
    "p = mp.plot(new_mesh.vertices, new_mesh.faces)\n",
    "p.add_points(right_back, shading={\"point_color\": \"blue\", \"point_size\": 0.1})\n",
    "p.add_points(left_back, shading={\"point_color\": \"green\", \"point_size\": 0.1})\n",
    "p.add_points(right_front, shading={\"point_color\": \"red\", \"point_size\": 0.1})\n",
    "p.add_points(left_front, shading={\"point_color\": \"black\", \"point_size\": 0.1})"
   ]
  },
  {
   "cell_type": "code",
   "execution_count": null,
   "metadata": {},
   "outputs": [],
   "source": [
    "from scipy.spatial.transform import Rotation as ROT\n",
    "\n",
    "def rot_and_translate(pts, rot_axis=None, rot_deg=None, translate=None):\n",
    "    center = pts.mean(axis=0).reshape(1, 3)\n",
    "    if rot_axis is None or rot_deg is None:\n",
    "        rot_mat = np.eye(3)\n",
    "    else:\n",
    "        rot_mat = ROT.from_euler(rot_axis, rot_deg, degrees=True).as_matrix()\n",
    "    if translate is None:\n",
    "        translate = np.array([0, 0, 0])\n",
    "    else:\n",
    "        translate = np.array(translate).reshape(1, 3)\n",
    "    transf = np.matmul(pts - center, rot_mat) + center + translate\n",
    "    return transf\n",
    "\n",
    "pts = left_front\n",
    "# pts = nose\n",
    "\n",
    "pts_out = rot_and_translate(pts, rot_axis='x', rot_deg=-30, translate=np.array([0, 0.3, -0.2]))\n",
    "p = mp.plot(new_mesh.vertices, new_mesh.faces)\n",
    "p.add_points(pts, shading={'point_color': 'green', 'point_size': 0.1})\n",
    "p.add_points(pts_out, shading={\"point_color\": \"blue\", \"point_size\": 0.1})"
   ]
  },
  {
   "cell_type": "code",
   "execution_count": null,
   "metadata": {},
   "outputs": [],
   "source": [
    "handles, targets = [], []\n",
    "for h, r_axis, r_angle, translate in [\n",
    "    (left_front, 'x', -30, [0., 0.3, -0.2]),\n",
    "    (right_front, 'x', -30, [0., 0.3, -0.2]),\n",
    "    (left_back, None, None, [0., 0., 0.]),\n",
    "    (right_back, None, None, [0., 0., 0.]),\n",
    "]:\n",
    "    handles.append(h.reshape(-1, 3))\n",
    "    targets.append(rot_and_translate(h, rot_axis=r_axis, rot_deg=r_angle, translate=translate))\n",
    "    \n",
    "handles = np.concatenate(handles, axis=0)\n",
    "targets = np.concatenate(targets, axis=0)\n",
    "\n",
    "p = mp.plot(new_mesh.vertices, new_mesh.faces)\n",
    "p.add_points(handles, shading={\"point_color\": \"blue\", \"point_size\": 0.1})\n",
    "p.add_points(targets, shading={\"point_color\": \"red\", \"point_size\": 0.1})"
   ]
  },
  {
   "cell_type": "markdown",
   "metadata": {},
   "source": [
    "# Compare to Open3D ASAP Algorithm"
   ]
  },
  {
   "cell_type": "code",
   "execution_count": null,
   "metadata": {
    "scrolled": true
   },
   "outputs": [],
   "source": [
    "from trainers.utils.o3d_deformation import deform_mesh_o3d, trimesh_to_o3dmesh, o3dmesh_to_trimesh\n",
    "mesh_prime_tri = None\n",
    "mesh_prime_tri = deform_mesh_o3d(original, handles, targets, imf_mesh = new_mesh, \n",
    "                                 steps=100, smoothed_alpha=100)"
   ]
  },
  {
   "cell_type": "code",
   "execution_count": null,
   "metadata": {},
   "outputs": [],
   "source": [
    "p = mp.plot(mesh_prime_tri.vertices, mesh_prime_tri.faces)\n",
    "p.add_points(handles, shading={\"point_color\": \"blue\", \"point_size\": 0.05})\n",
    "p.add_points(targets, shading={\"point_color\": \"red\", \"point_size\": 0.05})"
   ]
  },
  {
   "cell_type": "code",
   "execution_count": null,
   "metadata": {
    "scrolled": true
   },
   "outputs": [],
   "source": [
    "# from trainers.utils.o3d_deformation import deform_mesh_o3d, trimesh_to_o3dmesh, o3dmesh_to_trimesh\n",
    "# mesh_prime_tri = deform_mesh_o3d(original, handles, targets, imf_mesh = new_mesh, \n",
    "#                                  steps=10000, smoothed_alpha=10)\n"
   ]
  },
  {
   "cell_type": "code",
   "execution_count": null,
   "metadata": {},
   "outputs": [],
   "source": [
    "# p = mp.plot(mesh_prime_tri.vertices, mesh_prime_tri.faces)\n",
    "# p.add_points(handles, shading={\"point_color\": \"blue\", \"point_size\": 0.05})\n",
    "# p.add_points(targets, shading={\"point_color\": \"red\", \"point_size\": 0.05})"
   ]
  },
  {
   "cell_type": "markdown",
   "metadata": {},
   "source": [
    "# Save the Data for Neural Fields Deformation"
   ]
  },
  {
   "cell_type": "code",
   "execution_count": null,
   "metadata": {},
   "outputs": [],
   "source": [
    "# # # Saving it to data\n",
    "out_dir = \"../data/jolteon/deform_jump.npy\"\n",
    "try:\n",
    "    assert mesh_prime_tri\n",
    "    np.save(out_dir, {\n",
    "        \"handles\": handles,\n",
    "        \"targets\": targets,\n",
    "        'gtr_verts': mesh_prime_tri.vertices,\n",
    "        'gtr_faces': mesh_prime_tri.faces\n",
    "    })\n",
    "except:\n",
    "    print(\"Saving the handles and targets.\")\n",
    "    np.save(out_dir, {\n",
    "        \"handles\": handles,\n",
    "        \"targets\": targets,\n",
    "    })\n",
    "\n",
    "out_dir"
   ]
  },
  {
   "cell_type": "code",
   "execution_count": null,
   "metadata": {},
   "outputs": [],
   "source": []
  },
  {
   "cell_type": "code",
   "execution_count": null,
   "metadata": {},
   "outputs": [],
   "source": []
  }
 ],
 "metadata": {
  "kernelspec": {
   "display_name": "IGP",
   "language": "python",
   "name": "igp"
  },
  "language_info": {
   "codemirror_mode": {
    "name": "ipython",
    "version": 3
   },
   "file_extension": ".py",
   "mimetype": "text/x-python",
   "name": "python",
   "nbconvert_exporter": "python",
   "pygments_lexer": "ipython3",
   "version": "3.6.13"
  }
 },
 "nbformat": 4,
 "nbformat_minor": 4
}
