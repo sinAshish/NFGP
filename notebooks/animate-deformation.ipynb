{
 "cells": [
  {
   "cell_type": "code",
   "execution_count": 1,
   "metadata": {},
   "outputs": [
    {
     "name": "stdout",
     "output_type": "stream",
     "text": [
      "/home/grendelyang/NFGP\n"
     ]
    }
   ],
   "source": [
    "%load_ext autoreload\n",
    "%autoreload 2\n",
    "\n",
    "import os\n",
    "import sys\n",
    "import numpy as np\n",
    "os.chdir(\"..\")\n",
    "print(os.getcwd())\n",
    "sys.path.insert(0, os.getcwd())"
   ]
  },
  {
   "cell_type": "code",
   "execution_count": null,
   "metadata": {},
   "outputs": [],
   "source": []
  },
  {
   "cell_type": "code",
   "execution_count": 2,
   "metadata": {},
   "outputs": [],
   "source": [
    "import trimesh\n",
    "import matplotlib\n",
    "import numpy as np\n",
    "import meshplot as mp\n",
    "import matplotlib.pyplot as plt"
   ]
  },
  {
   "cell_type": "markdown",
   "metadata": {},
   "source": [
    "# Visualize the Implicit Field"
   ]
  },
  {
   "cell_type": "code",
   "execution_count": 3,
   "metadata": {
    "scrolled": true
   },
   "outputs": [
    {
     "name": "stdout",
     "output_type": "stream",
     "text": [
      "logs/armidillo_ballet_s1e-1_b1e-3_2021-Dec-04-19-40-13/\r\n",
      "logs/checkpoints/\r\n",
      "logs/images/\r\n",
      "logs/jolteon_nosedown_legsapart_s1e-1_b1e-3_2021-Dec-05-10-17-37/\r\n",
      "logs/jolteon_nosedown_legsapart_s1e-1_b1e-3_2021-Dec-05-10-18-13/\r\n",
      "logs/jolteon_nosedown_legsapart_s1e-1_b1e-3_2021-Nov-30-12-28-56/\r\n",
      "logs/jolteon_nosedown_s1e-1_b1e-3_1block_2021-Dec-05-15-27-30/\r\n",
      "logs/jolteon_nosedown_s1e-1_b1e-3_2021-Nov-29-16-50-38/\r\n",
      "logs/val/\r\n",
      "logs/vis/\r\n"
     ]
    }
   ],
   "source": [
    "!ls -d logs/*/"
   ]
  },
  {
   "cell_type": "code",
   "execution_count": 4,
   "metadata": {},
   "outputs": [],
   "source": [
    "log_path = \"logs/jolteon_nosedown_s1e-1_b1e-3_2021-Nov-29-16-50-38/\"\n",
    "# log_path = \"logs/dino_bend_s1e-1_b1e-3_2021-Nov-26-19-16-32/\"\n"
   ]
  },
  {
   "cell_type": "code",
   "execution_count": 5,
   "metadata": {
    "scrolled": true
   },
   "outputs": [
    {
     "name": "stdout",
     "output_type": "stream",
     "text": [
      "logs/jolteon_nosedown_s1e-1_b1e-3_2021-Nov-29-16-50-38/checkpoints/epoch_139_iters_14000.pt\n",
      "Original Decoder:\n",
      "Net(\n",
      "  (blocks): ModuleList(\n",
      "    (0): Linear(in_features=3, out_features=512, bias=True)\n",
      "    (1): Linear(in_features=512, out_features=512, bias=True)\n",
      "    (2): Linear(in_features=512, out_features=512, bias=True)\n",
      "    (3): Linear(in_features=512, out_features=512, bias=True)\n",
      "    (4): Linear(in_features=512, out_features=512, bias=True)\n",
      "    (5): Linear(in_features=512, out_features=512, bias=True)\n",
      "    (6): Linear(in_features=512, out_features=1, bias=True)\n",
      "  )\n",
      "  (act): Sine()\n",
      ")\n",
      "Net(\n",
      "  (blocks): ModuleList(\n",
      "    (0): InvertibleResBlockLinear(\n",
      "      (pos_enc): LipBoundedPosEnc()\n",
      "      (blocks): ModuleList(\n",
      "        (0): Linear(in_features=33, out_features=256, bias=True)\n",
      "        (1): Linear(in_features=256, out_features=256, bias=True)\n",
      "        (2): Linear(in_features=256, out_features=3, bias=True)\n",
      "      )\n",
      "      (act): ELU(alpha=1.0)\n",
      "    )\n",
      "    (1): InvertibleResBlockLinear(\n",
      "      (pos_enc): LipBoundedPosEnc()\n",
      "      (blocks): ModuleList(\n",
      "        (0): Linear(in_features=33, out_features=256, bias=True)\n",
      "        (1): Linear(in_features=256, out_features=256, bias=True)\n",
      "        (2): Linear(in_features=256, out_features=3, bias=True)\n",
      "      )\n",
      "      (act): ELU(alpha=1.0)\n",
      "    )\n",
      "    (2): InvertibleResBlockLinear(\n",
      "      (pos_enc): LipBoundedPosEnc()\n",
      "      (blocks): ModuleList(\n",
      "        (0): Linear(in_features=33, out_features=256, bias=True)\n",
      "        (1): Linear(in_features=256, out_features=256, bias=True)\n",
      "        (2): Linear(in_features=256, out_features=3, bias=True)\n",
      "      )\n",
      "      (act): ELU(alpha=1.0)\n",
      "    )\n",
      "    (3): InvertibleResBlockLinear(\n",
      "      (pos_enc): LipBoundedPosEnc()\n",
      "      (blocks): ModuleList(\n",
      "        (0): Linear(in_features=33, out_features=256, bias=True)\n",
      "        (1): Linear(in_features=256, out_features=256, bias=True)\n",
      "        (2): Linear(in_features=256, out_features=3, bias=True)\n",
      "      )\n",
      "      (act): ELU(alpha=1.0)\n",
      "    )\n",
      "    (4): InvertibleResBlockLinear(\n",
      "      (pos_enc): LipBoundedPosEnc()\n",
      "      (blocks): ModuleList(\n",
      "        (0): Linear(in_features=33, out_features=256, bias=True)\n",
      "        (1): Linear(in_features=256, out_features=256, bias=True)\n",
      "        (2): Linear(in_features=256, out_features=3, bias=True)\n",
      "      )\n",
      "      (act): ELU(alpha=1.0)\n",
      "    )\n",
      "    (5): InvertibleResBlockLinear(\n",
      "      (pos_enc): LipBoundedPosEnc()\n",
      "      (blocks): ModuleList(\n",
      "        (0): Linear(in_features=33, out_features=256, bias=True)\n",
      "        (1): Linear(in_features=256, out_features=256, bias=True)\n",
      "        (2): Linear(in_features=256, out_features=3, bias=True)\n",
      "      )\n",
      "      (act): ELU(alpha=1.0)\n",
      "    )\n",
      "  )\n",
      ")\n"
     ]
    },
    {
     "name": "stderr",
     "output_type": "stream",
     "text": [
      "100%|██████████| 1678/1678 [00:06<00:00, 255.61it/s]\n"
     ]
    },
    {
     "name": "stdout",
     "output_type": "stream",
     "text": [
      "221.62137 40.37848\n"
     ]
    },
    {
     "data": {
      "text/plain": [
       "(DeformationWrapper(\n",
       "   (orig): Net(\n",
       "     (blocks): ModuleList(\n",
       "       (0): Linear(in_features=3, out_features=512, bias=True)\n",
       "       (1): Linear(in_features=512, out_features=512, bias=True)\n",
       "       (2): Linear(in_features=512, out_features=512, bias=True)\n",
       "       (3): Linear(in_features=512, out_features=512, bias=True)\n",
       "       (4): Linear(in_features=512, out_features=512, bias=True)\n",
       "       (5): Linear(in_features=512, out_features=512, bias=True)\n",
       "       (6): Linear(in_features=512, out_features=1, bias=True)\n",
       "     )\n",
       "     (act): Sine()\n",
       "   )\n",
       "   (deform): Net(\n",
       "     (blocks): ModuleList(\n",
       "       (0): InvertibleResBlockLinear(\n",
       "         (pos_enc): LipBoundedPosEnc()\n",
       "         (blocks): ModuleList(\n",
       "           (0): Linear(in_features=33, out_features=256, bias=True)\n",
       "           (1): Linear(in_features=256, out_features=256, bias=True)\n",
       "           (2): Linear(in_features=256, out_features=3, bias=True)\n",
       "         )\n",
       "         (act): ELU(alpha=1.0)\n",
       "       )\n",
       "       (1): InvertibleResBlockLinear(\n",
       "         (pos_enc): LipBoundedPosEnc()\n",
       "         (blocks): ModuleList(\n",
       "           (0): Linear(in_features=33, out_features=256, bias=True)\n",
       "           (1): Linear(in_features=256, out_features=256, bias=True)\n",
       "           (2): Linear(in_features=256, out_features=3, bias=True)\n",
       "         )\n",
       "         (act): ELU(alpha=1.0)\n",
       "       )\n",
       "       (2): InvertibleResBlockLinear(\n",
       "         (pos_enc): LipBoundedPosEnc()\n",
       "         (blocks): ModuleList(\n",
       "           (0): Linear(in_features=33, out_features=256, bias=True)\n",
       "           (1): Linear(in_features=256, out_features=256, bias=True)\n",
       "           (2): Linear(in_features=256, out_features=3, bias=True)\n",
       "         )\n",
       "         (act): ELU(alpha=1.0)\n",
       "       )\n",
       "       (3): InvertibleResBlockLinear(\n",
       "         (pos_enc): LipBoundedPosEnc()\n",
       "         (blocks): ModuleList(\n",
       "           (0): Linear(in_features=33, out_features=256, bias=True)\n",
       "           (1): Linear(in_features=256, out_features=256, bias=True)\n",
       "           (2): Linear(in_features=256, out_features=3, bias=True)\n",
       "         )\n",
       "         (act): ELU(alpha=1.0)\n",
       "       )\n",
       "       (4): InvertibleResBlockLinear(\n",
       "         (pos_enc): LipBoundedPosEnc()\n",
       "         (blocks): ModuleList(\n",
       "           (0): Linear(in_features=33, out_features=256, bias=True)\n",
       "           (1): Linear(in_features=256, out_features=256, bias=True)\n",
       "           (2): Linear(in_features=256, out_features=3, bias=True)\n",
       "         )\n",
       "         (act): ELU(alpha=1.0)\n",
       "       )\n",
       "       (5): InvertibleResBlockLinear(\n",
       "         (pos_enc): LipBoundedPosEnc()\n",
       "         (blocks): ModuleList(\n",
       "           (0): Linear(in_features=33, out_features=256, bias=True)\n",
       "           (1): Linear(in_features=256, out_features=256, bias=True)\n",
       "           (2): Linear(in_features=256, out_features=3, bias=True)\n",
       "         )\n",
       "         (act): ELU(alpha=1.0)\n",
       "       )\n",
       "     )\n",
       "   )\n",
       " ),\n",
       " Namespace(data=Namespace(num_workers=4, path='data/jolteon/deform_nosedown.npy', train=Namespace(batch_size=1, length=100), type='datasets.deform_handles_datasets', val=Namespace(batch_size=1, length=1)), log_dir='logs/jolteon_nosedown_s1e-1_b1e-3_2021-Nov-29-16-50-38', log_name='logs/jolteon_nosedown_s1e-1_b1e-3_2021-Nov-29-16-50-38', models=Namespace(decoder=Namespace(dim=3, hidden_size=512, n_blocks=5, out_dim=1, path='pretrained/neural_fields/jolteon/latest.pt', type='models.siren_mlp', z_dim=1), deform_decoder=Namespace(dim=3, hidden_size=256, n_blocks=6, nonlin='elu', out_dim=3, pos_enc_freq=5, type='models.inv_res'), deform_wrapper=Namespace(delta_x_add=False)), save_dir='logs', trainer=Namespace(epochs=1000, loss_bend=Namespace(weight='1e-3'), loss_g=Namespace(num_points=0, weight=0.0), loss_h_thr='1e-4', loss_h_weight=100.0, loss_stretch=Namespace(weight='1e-1'), opt=Namespace(beta1=0.9, beta2=0.999, lr='1e-4', momentum=0.9, type='adam', weight_decay=0.0), sample_cfg=Namespace(detach_weight=True, num_points=5000, use_rejection=True), seed=100, show_network_hist=False, type='trainers.implicit_deform_3D', wrapper_type='deformation'), viz=Namespace(log_freq=1, save_freq=10, val_freq=1, viz_freq=100)))"
      ]
     },
     "execution_count": 5,
     "metadata": {},
     "output_type": "execute_result"
    }
   ],
   "source": [
    "import os.path as osp\n",
    "from utils import load_imf\n",
    "\n",
    "net, cfg = load_imf(\n",
    "    log_path, \n",
    "    return_cfg=True)\n",
    "net, cfg"
   ]
  },
  {
   "cell_type": "markdown",
   "metadata": {},
   "source": [
    "# Load dataset"
   ]
  },
  {
   "cell_type": "code",
   "execution_count": 6,
   "metadata": {},
   "outputs": [
    {
     "name": "stdout",
     "output_type": "stream",
     "text": [
      "dict_keys(['idx', 'handles', 'targets', 'gtr_verts', 'gtr_faces'])\n",
      "(1289, 3) (1289, 3)\n"
     ]
    },
    {
     "data": {
      "application/vnd.jupyter.widget-view+json": {
       "model_id": "d5db916f50cd4bd1aba8706248ac2cdc",
       "version_major": 2,
       "version_minor": 0
      },
      "text/plain": [
       "Renderer(camera=PerspectiveCamera(children=(DirectionalLight(color='white', intensity=0.6, position=(0.0003545…"
      ]
     },
     "metadata": {},
     "output_type": "display_data"
    },
    {
     "data": {
      "text/plain": [
       "2"
      ]
     },
     "execution_count": 6,
     "metadata": {},
     "output_type": "execute_result"
    }
   ],
   "source": [
    "import trimesh\n",
    "import importlib\n",
    "data_lib = importlib.import_module(cfg.data.type)\n",
    "loader = data_lib.get_data_loaders(cfg.data, None)['train_loader']\n",
    "for data in loader:\n",
    "    break\n",
    "    \n",
    "print(data.keys())\n",
    "handles = data['handles'].view(-1, 3).detach().cpu().numpy()\n",
    "targets = data['targets'].view(-1, 3).detach().cpu().numpy()\n",
    "print(handles.shape, targets.shape)\n",
    "\n",
    "\n",
    "p = mp.plot(data['gtr_verts'].cpu().view(-1, 3).numpy(), \n",
    "        data['gtr_faces'].cpu().view(-1, 3).numpy())\n",
    "p.add_points(handles, shading={'point_color': 'red', 'point_size': 0.05})\n",
    "p.add_points(targets, shading={'point_color': 'blue', 'point_size': 0.05})"
   ]
  },
  {
   "cell_type": "markdown",
   "metadata": {},
   "source": [
    "# Get the output Mesh"
   ]
  },
  {
   "cell_type": "code",
   "execution_count": 7,
   "metadata": {},
   "outputs": [
    {
     "name": "stderr",
     "output_type": "stream",
     "text": [
      "100%|██████████| 1678/1678 [00:06<00:00, 266.84it/s]\n"
     ]
    },
    {
     "name": "stdout",
     "output_type": "stream",
     "text": [
      "221.62137 40.37848\n"
     ]
    }
   ],
   "source": [
    "from trainers.utils.vis_utils import imf2mesh\n",
    "res = 256\n",
    "# out_mesh = imf2mesh(net, res=res, normalize=True, bound=1.)\n",
    "out_mesh = imf2mesh(net.orig, res=res, normalize=True, bound=1.)"
   ]
  },
  {
   "cell_type": "code",
   "execution_count": 8,
   "metadata": {},
   "outputs": [
    {
     "name": "stderr",
     "output_type": "stream",
     "text": [
      "/home/grendelyang/anaconda3/envs/NFGP/lib/python3.6/site-packages/traittypes/traittypes.py:101: UserWarning: Given trait value dtype \"float32\" does not match required type \"float64\". A coerced copy has been created.\n",
      "  np.dtype(self.dtype).name))\n",
      "/home/grendelyang/anaconda3/envs/NFGP/lib/python3.6/site-packages/traittypes/traittypes.py:101: UserWarning: Given trait value dtype \"uint32\" does not match required type \"float64\". A coerced copy has been created.\n",
      "  np.dtype(self.dtype).name))\n"
     ]
    },
    {
     "data": {
      "application/vnd.jupyter.widget-view+json": {
       "model_id": "d3028bf7b1374a2a92b3bc1aee789319",
       "version_major": 2,
       "version_minor": 0
      },
      "text/plain": [
       "Renderer(camera=PerspectiveCamera(children=(DirectionalLight(color='white', intensity=0.6, position=(0.0003809…"
      ]
     },
     "metadata": {},
     "output_type": "display_data"
    },
    {
     "data": {
      "text/plain": [
       "2"
      ]
     },
     "execution_count": 8,
     "metadata": {},
     "output_type": "execute_result"
    }
   ],
   "source": [
    "p = mp.plot(out_mesh.vertices.astype(np.float32), out_mesh.faces.astype(np.float32)) \n",
    "p.add_points(handles, shading={'point_color': 'red', 'point_size': 0.05})\n",
    "p.add_points(targets, shading={'point_color': 'blue', 'point_size': 0.05})"
   ]
  },
  {
   "cell_type": "code",
   "execution_count": 9,
   "metadata": {},
   "outputs": [],
   "source": [
    "# Visualize the original neural fields"
   ]
  },
  {
   "cell_type": "markdown",
   "metadata": {},
   "source": [
    "# Get the intermediate Layers' Output"
   ]
  },
  {
   "cell_type": "code",
   "execution_count": 10,
   "metadata": {
    "scrolled": false
   },
   "outputs": [
    {
     "name": "stdout",
     "output_type": "stream",
     "text": [
      "Nblocks: 0\n"
     ]
    },
    {
     "name": "stderr",
     "output_type": "stream",
     "text": [
      "100%|██████████| 1678/1678 [00:06<00:00, 263.49it/s]\n"
     ]
    },
    {
     "name": "stdout",
     "output_type": "stream",
     "text": [
      "221.62137 40.37848\n",
      "<trimesh.Trimesh(vertices.shape=(88989, 3), faces.shape=(177966, 3))>\n"
     ]
    },
    {
     "data": {
      "application/vnd.jupyter.widget-view+json": {
       "model_id": "07819dbcd40c47219131adb0c1dd8fcc",
       "version_major": 2,
       "version_minor": 0
      },
      "text/plain": [
       "Renderer(camera=PerspectiveCamera(children=(DirectionalLight(color='white', intensity=0.6, position=(0.0003809…"
      ]
     },
     "metadata": {},
     "output_type": "display_data"
    },
    {
     "name": "stdout",
     "output_type": "stream",
     "text": [
      "Nblocks: 1\n"
     ]
    },
    {
     "name": "stderr",
     "output_type": "stream",
     "text": [
      "100%|██████████| 1678/1678 [00:08<00:00, 209.17it/s]\n"
     ]
    },
    {
     "name": "stdout",
     "output_type": "stream",
     "text": [
      "231.59412 40.34565\n",
      "<trimesh.Trimesh(vertices.shape=(87873, 3), faces.shape=(175734, 3))>\n"
     ]
    },
    {
     "data": {
      "application/vnd.jupyter.widget-view+json": {
       "model_id": "6ec2618e0676461b83d536b1860abfab",
       "version_major": 2,
       "version_minor": 0
      },
      "text/plain": [
       "Renderer(camera=PerspectiveCamera(children=(DirectionalLight(color='white', intensity=0.6, position=(0.0676802…"
      ]
     },
     "metadata": {},
     "output_type": "display_data"
    },
    {
     "name": "stdout",
     "output_type": "stream",
     "text": [
      "Nblocks: 2\n"
     ]
    },
    {
     "name": "stderr",
     "output_type": "stream",
     "text": [
      "100%|██████████| 1678/1678 [00:09<00:00, 172.37it/s]\n"
     ]
    },
    {
     "name": "stdout",
     "output_type": "stream",
     "text": [
      "234.54019 27.403376\n",
      "<trimesh.Trimesh(vertices.shape=(87559, 3), faces.shape=(175114, 3))>\n"
     ]
    },
    {
     "data": {
      "application/vnd.jupyter.widget-view+json": {
       "model_id": "bb0e30a61ff74128ad0c87bc5b928bb0",
       "version_major": 2,
       "version_minor": 0
      },
      "text/plain": [
       "Renderer(camera=PerspectiveCamera(children=(DirectionalLight(color='white', intensity=0.6, position=(0.0633606…"
      ]
     },
     "metadata": {},
     "output_type": "display_data"
    },
    {
     "name": "stdout",
     "output_type": "stream",
     "text": [
      "Nblocks: 3\n"
     ]
    },
    {
     "name": "stderr",
     "output_type": "stream",
     "text": [
      "100%|██████████| 1678/1678 [00:11<00:00, 145.03it/s]\n"
     ]
    },
    {
     "name": "stdout",
     "output_type": "stream",
     "text": [
      "224.67584 27.681622\n",
      "<trimesh.Trimesh(vertices.shape=(89079, 3), faces.shape=(178158, 3))>\n"
     ]
    },
    {
     "data": {
      "application/vnd.jupyter.widget-view+json": {
       "model_id": "f2637958fd3a4ec695b6330a0a686820",
       "version_major": 2,
       "version_minor": 0
      },
      "text/plain": [
       "Renderer(camera=PerspectiveCamera(children=(DirectionalLight(color='white', intensity=0.6, position=(-0.015676…"
      ]
     },
     "metadata": {},
     "output_type": "display_data"
    },
    {
     "name": "stdout",
     "output_type": "stream",
     "text": [
      "Nblocks: 4\n"
     ]
    },
    {
     "name": "stderr",
     "output_type": "stream",
     "text": [
      "100%|██████████| 1678/1678 [00:13<00:00, 126.73it/s]\n"
     ]
    },
    {
     "name": "stdout",
     "output_type": "stream",
     "text": [
      "231.34843 39.86661\n",
      "<trimesh.Trimesh(vertices.shape=(89970, 3), faces.shape=(179936, 3))>\n"
     ]
    },
    {
     "data": {
      "application/vnd.jupyter.widget-view+json": {
       "model_id": "a323565e1ba74fc4b6e889b4c2388c5d",
       "version_major": 2,
       "version_minor": 0
      },
      "text/plain": [
       "Renderer(camera=PerspectiveCamera(children=(DirectionalLight(color='white', intensity=0.6, position=(-0.050622…"
      ]
     },
     "metadata": {},
     "output_type": "display_data"
    },
    {
     "name": "stdout",
     "output_type": "stream",
     "text": [
      "Nblocks: 5\n"
     ]
    },
    {
     "name": "stderr",
     "output_type": "stream",
     "text": [
      "100%|██████████| 1678/1678 [00:15<00:00, 109.65it/s]\n"
     ]
    },
    {
     "name": "stdout",
     "output_type": "stream",
     "text": [
      "211.05814 38.394352\n",
      "<trimesh.Trimesh(vertices.shape=(91306, 3), faces.shape=(182600, 3))>\n"
     ]
    },
    {
     "data": {
      "application/vnd.jupyter.widget-view+json": {
       "model_id": "291aa06a95284da78e78aefd92fb2612",
       "version_major": 2,
       "version_minor": 0
      },
      "text/plain": [
       "Renderer(camera=PerspectiveCamera(children=(DirectionalLight(color='white', intensity=0.6, position=(-0.078841…"
      ]
     },
     "metadata": {},
     "output_type": "display_data"
    },
    {
     "name": "stdout",
     "output_type": "stream",
     "text": [
      "Nblocks: 6\n"
     ]
    },
    {
     "name": "stderr",
     "output_type": "stream",
     "text": [
      "100%|██████████| 1678/1678 [00:16<00:00, 99.29it/s] \n"
     ]
    },
    {
     "name": "stdout",
     "output_type": "stream",
     "text": [
      "211.79465 40.361458\n",
      "<trimesh.Trimesh(vertices.shape=(88736, 3), faces.shape=(177480, 3))>\n"
     ]
    },
    {
     "data": {
      "application/vnd.jupyter.widget-view+json": {
       "model_id": "7eaf75aab0184271b977afda4e05bd5f",
       "version_major": 2,
       "version_minor": 0
      },
      "text/plain": [
       "Renderer(camera=PerspectiveCamera(children=(DirectionalLight(color='white', intensity=0.6, position=(0.0078779…"
      ]
     },
     "metadata": {},
     "output_type": "display_data"
    }
   ],
   "source": [
    "def forward_n_blocks(net, n):\n",
    "    def _out_(x):\n",
    "        ttl = len(net.deform.blocks)\n",
    "        start = ttl - n\n",
    "        for i in range(start, ttl):\n",
    "            x = net.deform.blocks[i](x)\n",
    "        return net.orig(x)\n",
    "    return _out_\n",
    "\n",
    "mesh_lst = []\n",
    "for i in range(len(net.deform.blocks) + 1):\n",
    "# for i in [0, len(net.deform.blocks) - 1]:\n",
    "    print(\"Nblocks:\", i)\n",
    "    mesh_i = imf2mesh(forward_n_blocks(net, i), res=res, normalize=True, bound=1.)\n",
    "    print(mesh_i)\n",
    "    mesh_lst.append(mesh_i)\n",
    "    \n",
    "    p = mp.plot(mesh_i.vertices.astype(np.float32), mesh_i.faces.astype(np.float32)) \n",
    "    p.add_points(handles, shading={'point_color': 'red', 'point_size': 0.05})\n",
    "    p.add_points(targets, shading={'point_color': 'blue', 'point_size': 0.05})"
   ]
  },
  {
   "cell_type": "code",
   "execution_count": null,
   "metadata": {},
   "outputs": [],
   "source": []
  }
 ],
 "metadata": {
  "kernelspec": {
   "display_name": "NFGP",
   "language": "python",
   "name": "nfgp"
  },
  "language_info": {
   "codemirror_mode": {
    "name": "ipython",
    "version": 3
   },
   "file_extension": ".py",
   "mimetype": "text/x-python",
   "name": "python",
   "nbconvert_exporter": "python",
   "pygments_lexer": "ipython3",
   "version": "3.6.13"
  }
 },
 "nbformat": 4,
 "nbformat_minor": 4
}
